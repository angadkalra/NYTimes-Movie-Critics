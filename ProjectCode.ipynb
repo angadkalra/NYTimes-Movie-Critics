{
 "cells": [
  {
   "cell_type": "markdown",
   "metadata": {},
   "source": [
    "# Angad Kalra\n",
    "# SN: 1005134999\n"
   ]
  },
  {
   "cell_type": "markdown",
   "metadata": {},
   "source": [
    "# Primary Questions\n",
    "* Q1: For all active fulltime NYT movie critics, how often do they correctly predict box office hits? \n",
    "* Q2: Does movie review sentiment align with whether it was a critic's pick or not?\n",
    "* Q3: What characterisitcs are common among movies that do really well? Among movies that do poorly? "
   ]
  },
  {
   "cell_type": "markdown",
   "metadata": {},
   "source": [
    "# TO DO:\n",
    "* Go through each Q and complete\n",
    "* Write Report"
   ]
  },
  {
   "cell_type": "markdown",
   "metadata": {},
   "source": [
    "# Data Collection"
   ]
  },
  {
   "cell_type": "code",
   "execution_count": 70,
   "metadata": {},
   "outputs": [],
   "source": [
    "import numpy as np\n",
    "import pandas as pd\n",
    "import requests, json, os, sys, time \n",
    "import matplotlib.pyplot as plt\n",
    "from sklearn import linear_model\n",
    "\n",
    "# Sample data collection code\n",
    "\n",
    "# API urls & keys\n",
    "nyt_url = \"http://api.nytimes.com/svc/movies/v2\"\n",
    "nyt_apikey = \"72aaefb1f009451e986a0e446468f649\"\n",
    "\n",
    "tmdb_url = \"https://api.themoviedb.org/3\"\n",
    "tmdb_apikey = \"49200255c3dc5d6af15e04656ea5f7c4\"\n",
    "\n",
    "# List of critics\n",
    "url = nyt_url + \"/critics/full-time.json\"\n",
    "critics_res = requests.get(url, params={\"api-key\": nyt_apikey})\n",
    "if critics_res.status_code == 200:\n",
    "    critics_res = json.loads(critics_res.text)\n",
    "    critics = [x[\"display_name\"] for x in critics_res[\"results\"]]\n",
    "else:\n",
    "    print(json.loads(critics_res.text))\n",
    "\n",
    "# List of genres\n",
    "genres_url = tmdb_url + \"/genre/movie/list\"\n",
    "genres_resp = requests.get(genres_url, params={\"api_key\": tmdb_apikey})\n",
    "if genres_resp.status_code == 200:\n",
    "    genres = json.loads(genres_resp.text)\n",
    "    genres = [x[\"name\"] for x in genres[\"genres\"]]\n",
    "else:\n",
    "    print(json.loads(genres_resp.text))"
   ]
  },
  {
   "cell_type": "code",
   "execution_count": 4,
   "metadata": {
    "code_folding": [
     6
    ]
   },
   "outputs": [],
   "source": [
    "# Table of movies + financial outcome\n",
    "url = nyt_url + \"/reviews/search.json\"\n",
    "critics_list = []\n",
    "movie_titles = []\n",
    "box_office_total = []\n",
    "\n",
    "def get_bo_total(c, i):\n",
    "    resp = requests.get(url, params={\"api-key\": nyt_apikey, \"critics-pick\": \"Y\", \"reviewer\": c,\n",
    "                                            \"offset\": int(i*20)})\n",
    "    \n",
    "    if resp.status_code == 200:\n",
    "        resp = json.loads(resp.text)\n",
    "    else:\n",
    "        print(json.loads(resp.text))\n",
    "\n",
    "    results = resp[\"results\"]\n",
    "\n",
    "    for r in results:\n",
    "        tmdb_resp = requests.get(tmdb_url + \"/search/movie\", \n",
    "                            params={\"api_key\": tmdb_apikey, \"query\": r[\"display_title\"], \n",
    "                                    \"primary_release_year\": int(r[\"publication_date\"][0:4]) })\n",
    "        \n",
    "        if tmdb_resp.status_code == 200:\n",
    "            tmdb_resp = json.loads(tmdb_resp.text)\n",
    "\n",
    "            if (tmdb_resp[\"total_results\"] > 0):\n",
    "                mid = tmdb_resp[\"results\"][0][\"id\"]\n",
    "                movie_info = requests.get(tmdb_url + \"/movie/{}\".format(mid), params={\"api_key\": tmdb_apikey})\n",
    "                \n",
    "                if movie_info.status_code == 200:\n",
    "                    movie_info = json.loads(movie_info.text)\n",
    "\n",
    "                    if (movie_info[\"revenue\"] > 0):\n",
    "                        critics_list.append(c)\n",
    "                        movie_titles.append(movie_info[\"title\"])\n",
    "                        box_office_total.append(movie_info[\"revenue\"])\n",
    "        else:\n",
    "            print(json.loads(tmdb_resp.text))\n",
    "                \n",
    "# Get critic pick movies for each critic + info and create dataframe.\n",
    "for c in critics:\n",
    "    get_bo_total(c, 0)\n",
    "    time.sleep(11)\n",
    "    get_bo_total(c, 1)\n",
    "    time.sleep(11)\n",
    "        \n",
    "# Create DataFrame from critics, movies, box office revenue. \n",
    "df_dict = {\"critic\": pd.Series(critics_list, dtype=str), \"movie_title\": pd.Series(movie_titles, dtype=str), \n",
    "                        \"box_office_total\": pd.Series(box_office_total, dtype=np.int64)}\n",
    "q1_df = pd.DataFrame(df_dict)"
   ]
  },
  {
   "cell_type": "code",
   "execution_count": 106,
   "metadata": {},
   "outputs": [
    {
     "name": "stdout",
     "output_type": "stream",
     "text": [
      "Critic: A. O. Scott, # of Picks: 20, Accuracy: 0.35\n",
      "\n",
      "Critic: Manohla Dargis, # of Picks: 27, Accuracy: 0.4074074074074074\n",
      "\n",
      "Critic: Stephen Holden, # of Picks: 11, Accuracy: 0.0\n",
      "\n"
     ]
    }
   ],
   "source": [
    "# Analyze Critic BOH Prediction Accuracy\n",
    "\n",
    "box_office_hit = 60000000\n",
    "\n",
    "for c in critics:\n",
    "    c_movies = q1_df.loc[q1_df[\"critic\"] == c]\n",
    "    num_movies = c_movies.shape[0]\n",
    "    num_hits = c_movies.loc[c_movies[\"box_office_total\"] >= box_office_hit].shape[0]\n",
    "    accuracy = num_hits/num_movies\n",
    "    print(\"Critic: {0}, # of Picks: {2}, Accuracy: {1}\\n\".format(c, accuracy, num_movies))"
   ]
  },
  {
   "cell_type": "code",
   "execution_count": 6,
   "metadata": {
    "scrolled": false
   },
   "outputs": [],
   "source": [
    "# Table of movies + review sentiment\n",
    "from bs4 import BeautifulSoup\n",
    "from textblob import TextBlob\n",
    "\n",
    "url = nyt_url + \"/reviews/search.json\"\n",
    "movie_titles = []\n",
    "review_sentiment = []\n",
    "critic_pick = []\n",
    "\n",
    "for c in critics:\n",
    "    resp = requests.get(url, params={\"api-key\": nyt_apikey, \"reviewer\": c})\n",
    "    if resp.status_code == 200:\n",
    "        resp = json.loads(resp.text)\n",
    "    else:\n",
    "        continue\n",
    "        \n",
    "    results = resp[\"results\"]\n",
    "    \n",
    "    # For each review by critic, get the review using url\n",
    "    for r in results:\n",
    "        review_url = r[\"link\"][\"url\"]\n",
    "        resp = requests.get(review_url)\n",
    "        \n",
    "        if resp.status_code == 200:\n",
    "            resp = resp.text\n",
    "            soup = BeautifulSoup(resp, 'html.parser')\n",
    "            article = soup.find('section', attrs={'name': \"articleBody\"})\n",
    "            paragraphs = article.find_all('p', class_=\"css-1xl4flh e2kc3sl0\")\n",
    "            \n",
    "            if (len(paragraphs) > 0):\n",
    "                review = []\n",
    "                \n",
    "                for p in paragraphs:\n",
    "                    review.append(p.text)\n",
    "                \n",
    "                review = \"\".join(review)\n",
    "                review = TextBlob(review)\n",
    "                \n",
    "                review_sentiment.append(review.sentiment.polarity)\n",
    "                movie_titles.append(r[\"display_title\"])\n",
    "                critic_pick.append(r[\"critics_pick\"])\n",
    "\n",
    "# Create DataFrame from movies, review sentiment and critic's pick. \n",
    "df_dict = {\"movie_title\": pd.Series(movie_titles, dtype=str), \n",
    "               \"review_sentiment\": pd.Series(review_sentiment, dtype=np.float16), \n",
    "                   \"critic_pick\": pd.Series(critic_pick, dtype=np.bool)}\n",
    "\n",
    "movie_review_sentiment = pd.DataFrame(df_dict)"
   ]
  },
  {
   "cell_type": "code",
   "execution_count": 27,
   "metadata": {},
   "outputs": [
    {
     "name": "stderr",
     "output_type": "stream",
     "text": [
      "/home/angad/.local/lib/python3.6/site-packages/sklearn/linear_model/logistic.py:432: FutureWarning: Default solver will be changed to 'lbfgs' in 0.22. Specify a solver to silence this warning.\n",
      "  FutureWarning)\n"
     ]
    },
    {
     "data": {
      "image/png": "[encoded data removed]",
      "text/plain": [
       "<Figure size 432x288 with 1 Axes>"
      ]
     },
     "metadata": {
      "needs_background": "light"
     },
     "output_type": "display_data"
    }
   ],
   "source": [
    "# Analyze Critic Pick vs Sentiment Analysis\n",
    "\n",
    "x_vals = movie_review_sentiment[\"review_sentiment\"].values\n",
    "y_vals = np.array([int(x) for x in movie_review_sentiment[\"critic_pick\"]])\n",
    "\n",
    "model = linear_model.LogisticRegression().fit(x_vals.reshape(-1,1), y_vals)\n",
    "y_pred = model.predict(x_vals.reshape(-1,1))\n",
    "\n",
    "plt.scatter(x_vals, y_vals)\n",
    "plt.plot(x_vals, y_pred, 'r--')\n",
    "plt.axis([-0.1, 0.30, -0.25, 1.25])\n",
    "plt.grid(True)\n",
    "plt.show()"
   ]
  },
  {
   "cell_type": "code",
   "execution_count": 107,
   "metadata": {},
   "outputs": [
    {
     "data": {
      "text/plain": [
       "array([0, 0, 0, 0, 0, 0, 0, 0, 0, 0, 0, 0, 0, 0, 0, 0, 0, 0, 0, 0, 0, 0,\n",
       "       0, 0, 0, 0, 0, 0, 0, 0, 0, 0, 0, 0, 0, 0, 0, 0, 0, 0, 0, 0, 0, 0,\n",
       "       0, 0, 0, 0, 0, 0, 0, 0, 0, 0, 0, 0, 0, 0, 0, 0])"
      ]
     },
     "execution_count": 107,
     "metadata": {},
     "output_type": "execute_result"
    }
   ],
   "source": [
    "y_pred"
   ]
  },
  {
   "cell_type": "code",
   "execution_count": 29,
   "metadata": {
    "code_folding": [
     9,
     31
    ]
   },
   "outputs": [
    {
     "name": "stdout",
     "output_type": "stream",
     "text": [
      "movie request with id 328111 didn't work\n",
      "movie request with id 209112 didn't work\n",
      "movie request with id 141052 didn't work\n"
     ]
    }
   ],
   "source": [
    "# Top 100 revenue movie characteristics\n",
    "\n",
    "top100_url = tmdb_url + \"/discover/movie\"\n",
    "top100_movies = []\n",
    "\n",
    "for i in range(1,3):\n",
    "    resp = requests.get(top100_url, params={\"api_key\": tmdb_apikey, \"sort_by\": \"revenue.desc\", \"page\": i,\n",
    "                                           \"primary_release_date.gte\": \"2010-01-01\", \n",
    "                                            \"primary_release_data.lte\": \"2017-01-01\"})\n",
    "    if (resp.status_code == 200):\n",
    "        resp = json.loads(resp.text)\n",
    "        results = resp[\"results\"]\n",
    "        \n",
    "        for r in results:\n",
    "            mid = r[\"id\"]\n",
    "            movie_info = requests.get(tmdb_url + \"/movie/{}\".format(mid), \n",
    "                                    params={\"api_key\": tmdb_apikey})\n",
    "            \n",
    "            if movie_info.status_code == 200:\n",
    "                movie_info = json.loads(movie_info.text)\n",
    "                top100_movies.append({\"budget\": movie_info[\"budget\"], \"genres\": movie_info[\"genres\"], \n",
    "                                      \"release_date\": movie_info[\"release_date\"],\n",
    "                                        \"revenue\": movie_info[\"revenue\"], \"title\": movie_info[\"title\"]} )\n",
    "            else:\n",
    "                print(\"movie request with id {} didn't work\".format(mid))\n",
    "                continue \n",
    "    else:\n",
    "        print(json.loads(resp.text))\n",
    "\n",
    "time.sleep(15)\n",
    "\n",
    "for i in range(3,5):\n",
    "    resp = requests.get(top100_url, params={\"api_key\": tmdb_apikey, \"sort_by\": \"revenue.desc\", \"page\": i,\n",
    "                                           \"primary_release_date.gte\": \"2010-01-01\", \n",
    "                                            \"primary_release_data.lte\": \"2017-01-01\"})\n",
    "    if (resp.status_code == 200):\n",
    "        resp = json.loads(resp.text)\n",
    "        results = resp[\"results\"]\n",
    "        \n",
    "        for r in results:\n",
    "            mid = r[\"id\"]\n",
    "            movie_info = requests.get(tmdb_url + \"/movie/{}\".format(mid), \n",
    "                                    params={\"api_key\": tmdb_apikey})\n",
    "            \n",
    "            if movie_info.status_code == 200:\n",
    "                movie_info = json.loads(movie_info.text)\n",
    "                top100_movies.append({\"budget\": movie_info[\"budget\"], \"genres\": movie_info[\"genres\"], \n",
    "                                      \"release_date\": movie_info[\"release_date\"],\n",
    "                                        \"revenue\": movie_info[\"revenue\"], \"title\": movie_info[\"title\"]} )\n",
    "            else:\n",
    "                print(\"movie request with id {} didn't work\".format(mid))\n",
    "                continue \n",
    "    else:\n",
    "        print(json.loads(resp.text))\n",
    "\n",
    "time.sleep(15)\n",
    "\n",
    "resp = requests.get(top100_url, params={\"api_key\": tmdb_apikey, \"sort_by\": \"revenue.desc\", \"page\": 5,\n",
    "                                           \"primary_release_date.gte\": \"2010-01-01\", \n",
    "                                            \"primary_release_data.lte\": \"2017-01-01\"})\n",
    "if (resp.status_code == 200):\n",
    "    resp = json.loads(resp.text)\n",
    "    results = resp[\"results\"]\n",
    "\n",
    "    for r in results:\n",
    "        mid = r[\"id\"]\n",
    "        movie_info = requests.get(tmdb_url + \"/movie/{}\".format(mid), \n",
    "                                params={\"api_key\": tmdb_apikey})\n",
    "\n",
    "        if movie_info.status_code == 200:\n",
    "            movie_info = json.loads(movie_info.text)\n",
    "            top100_movies.append({\"budget\": movie_info[\"budget\"], \"genres\": movie_info[\"genres\"], \n",
    "                                  \"release_date\": movie_info[\"release_date\"],\n",
    "                                    \"revenue\": movie_info[\"revenue\"], \"title\": movie_info[\"title\"]} )\n",
    "        else:\n",
    "            print(\"movie request with id {} didn't work\".format(mid))\n",
    "            continue \n",
    "else:\n",
    "    print(json.loads(resp.text))\n"
   ]
  },
  {
   "cell_type": "code",
   "execution_count": 90,
   "metadata": {},
   "outputs": [],
   "source": [
    "# Create top 100 movies DataFrame\n",
    "top100_cols = [\"title\", \"budget\", \"release_season\"]\n",
    "top100_cols.extend(genres)\n",
    "top100_cols.append(\"revenue\")\n",
    "\n",
    "df_dict = {}\n",
    "for key in top100_cols:\n",
    "    df_dict[key] = []\n",
    "\n",
    "for g in genres:\n",
    "    df_dict[g] = [0]*len(top100_movies)\n",
    "    \n",
    "for ind, movie in enumerate(top100_movies):\n",
    "    df_dict[\"budget\"].append(movie[\"budget\"])\n",
    "    df_dict[\"title\"].append(movie[\"title\"])\n",
    "    df_dict[\"revenue\"].append(movie[\"revenue\"])\n",
    "    \n",
    "    movie_genres = [x[\"name\"] for x in movie[\"genres\"]]\n",
    "    \n",
    "    for g in movie_genres:\n",
    "        df_dict[g][ind] = 1\n",
    "        \n",
    "    release_month = int(movie[\"release_date\"].split(\"-\")[1])\n",
    "    \n",
    "    if release_month in [1, 2, 12]:\n",
    "        df_dict[\"release_season\"] = \"Winter\"\n",
    "    elif release_month in [3, 4, 5]:\n",
    "        df_dict[\"release_season\"] = \"Spring\"\n",
    "    elif release_month in [6, 7, 8]:\n",
    "        df_dict[\"release_season\"] = \"Summer\"\n",
    "    else:\n",
    "        df_dict[\"release_season\"] = \"Fall\"\n",
    "\n",
    "top100_df = pd.DataFrame.from_dict(df_dict)"
   ]
  },
  {
   "cell_type": "code",
   "execution_count": 100,
   "metadata": {
    "code_folding": [
     61,
     64
    ]
   },
   "outputs": [],
   "source": [
    "# Bottom 100 revenue movie characteristics\n",
    "\n",
    "bottom100_url = tmdb_url + \"/discover/movie\"\n",
    "bottom100_movies = []\n",
    "\n",
    "# buffer between top100 movies code running\n",
    "time.sleep(11)\n",
    "\n",
    "for i in range(10,12):\n",
    "    resp = requests.get(bottom100_url, params={\"api_key\": tmdb_apikey, \"sort_by\": \"revenue.desc\", \"page\": i,\n",
    "                                           \"primary_release_date.gte\": \"2010-01-01\", \n",
    "                                            \"primary_release_data.lte\": \"2017-01-01\"})\n",
    "    if (resp.status_code == 200):\n",
    "        resp = json.loads(resp.text)\n",
    "        results = resp[\"results\"]\n",
    "        \n",
    "        for r in results:\n",
    "            mid = r[\"id\"]\n",
    "            movie_info = requests.get(tmdb_url + \"/movie/{}\".format(mid), \n",
    "                                    params={\"api_key\": tmdb_apikey})\n",
    "            \n",
    "            if movie_info.status_code == 200:\n",
    "                movie_info = json.loads(movie_info.text)\n",
    "                bottom100_movies.append({\"budget\": movie_info[\"budget\"], \"genres\": movie_info[\"genres\"], \n",
    "                                      \"release_date\": movie_info[\"release_date\"],\n",
    "                                        \"revenue\": movie_info[\"revenue\"], \"title\": movie_info[\"title\"]} )\n",
    "            else:\n",
    "                print(\"movie request with id {} didn't work\".format(mid))\n",
    "                continue \n",
    "    else:\n",
    "        print(json.loads(resp.text))\n",
    "\n",
    "time.sleep(15)\n",
    "\n",
    "for i in range(12,14):\n",
    "    resp = requests.get(bottom100_url, params={\"api_key\": tmdb_apikey, \"sort_by\": \"revenue.desc\", \"page\": i,\n",
    "                                           \"primary_release_date.gte\": \"2010-01-01\", \n",
    "                                            \"primary_release_data.lte\": \"2017-01-01\"})\n",
    "    if (resp.status_code == 200):\n",
    "        resp = json.loads(resp.text)\n",
    "        results = resp[\"results\"]\n",
    "        \n",
    "        for r in results:\n",
    "            mid = r[\"id\"]\n",
    "            movie_info = requests.get(tmdb_url + \"/movie/{}\".format(mid), \n",
    "                                    params={\"api_key\": tmdb_apikey})\n",
    "            \n",
    "            if movie_info.status_code == 200:\n",
    "                movie_info = json.loads(movie_info.text)\n",
    "                bottom100_movies.append({\"budget\": movie_info[\"budget\"], \"genres\": movie_info[\"genres\"], \n",
    "                                      \"release_date\": movie_info[\"release_date\"],\n",
    "                                        \"revenue\": movie_info[\"revenue\"], \"title\": movie_info[\"title\"]} )\n",
    "            else:\n",
    "                print(\"movie request with id {} didn't work\".format(mid))\n",
    "                continue \n",
    "    else:\n",
    "        print(json.loads(resp.text))\n",
    "\n",
    "time.sleep(15)\n",
    "\n",
    "resp = requests.get(bottom100_url, params={\"api_key\": tmdb_apikey, \"sort_by\": \"revenue.desc\", \"page\": 15,\n",
    "                                           \"primary_release_date.gte\": \"2010-01-01\", \n",
    "                                            \"primary_release_data.lte\": \"2017-01-01\"})\n",
    "if (resp.status_code == 200):\n",
    "    resp = json.loads(resp.text)\n",
    "    results = resp[\"results\"]\n",
    "\n",
    "    for r in results:\n",
    "        mid = r[\"id\"]\n",
    "        movie_info = requests.get(tmdb_url + \"/movie/{}\".format(mid), \n",
    "                                params={\"api_key\": tmdb_apikey})\n",
    "\n",
    "        if movie_info.status_code == 200:\n",
    "            movie_info = json.loads(movie_info.text)\n",
    "            bottom100_movies.append({\"budget\": movie_info[\"budget\"], \"genres\": movie_info[\"genres\"], \n",
    "                                  \"release_date\": movie_info[\"release_date\"],\n",
    "                                    \"revenue\": movie_info[\"revenue\"], \"title\": movie_info[\"title\"]} )\n",
    "        else:\n",
    "            print(\"movie request with id {} didn't work\".format(mid))\n",
    "            continue \n",
    "else:\n",
    "    print(json.loads(resp.text))\n"
   ]
  },
  {
   "cell_type": "code",
   "execution_count": 101,
   "metadata": {},
   "outputs": [],
   "source": [
    "# Create bottom 100 movies DataFrame\n",
    "bottom100_cols = [\"title\", \"budget\", \"release_season\"]\n",
    "bottom100_cols.extend(genres)\n",
    "bottom100_cols.append(\"revenue\")\n",
    "\n",
    "df_dict = {}\n",
    "for key in bottom100_cols:\n",
    "    df_dict[key] = []\n",
    "\n",
    "for g in genres:\n",
    "    df_dict[g] = [0]*len(bottom100_movies)\n",
    "    \n",
    "for ind, movie in enumerate(bottom100_movies):\n",
    "    df_dict[\"budget\"].append(movie[\"budget\"])\n",
    "    df_dict[\"title\"].append(movie[\"title\"])\n",
    "    df_dict[\"revenue\"].append(movie[\"revenue\"])\n",
    "    \n",
    "    movie_genres = [x[\"name\"] for x in movie[\"genres\"]]\n",
    "    for g in movie_genres:\n",
    "        df_dict[g][ind] = 1\n",
    "        \n",
    "    release_month = int(movie[\"release_date\"].split(\"-\")[1])\n",
    "    \n",
    "    if release_month in [1, 2, 12]:\n",
    "        df_dict[\"release_season\"] = \"Winter\"\n",
    "    elif release_month in [3, 4, 5]:\n",
    "        df_dict[\"release_season\"] = \"Spring\"\n",
    "    elif release_month in [6, 7, 8]:\n",
    "        df_dict[\"release_season\"] = \"Summer\"\n",
    "    else:\n",
    "        df_dict[\"release_season\"] = \"Fall\"\n",
    "\n",
    "bottom100_df = pd.DataFrame.from_dict(df_dict)"
   ]
  },
  {
   "cell_type": "code",
   "execution_count": 102,
   "metadata": {},
   "outputs": [
    {
     "data": {
      "image/png": "[encoded data removed]",
      "text/plain": [
       "<Figure size 432x288 with 1 Axes>"
      ]
     },
     "metadata": {
      "needs_background": "light"
     },
     "output_type": "display_data"
    }
   ],
   "source": [
    "# Revenue boxplots\n",
    "\n",
    "top100_rev = top100_df[\"revenue\"].values\n",
    "bot100_rev = bottom100_df[\"revenue\"].values\n",
    "\n",
    "plt.boxplot([top100_rev, bot100_rev], labels=[\"top100\", \"bottom100\"])\n",
    "plt.title(\"Movie Revenue Boxplots\")\n",
    "plt.ylabel(\"Revenue in $1 billion\")\n",
    "plt.show()"
   ]
  },
  {
   "cell_type": "code",
   "execution_count": 103,
   "metadata": {},
   "outputs": [
    {
     "data": {
      "image/png": "[encoded data removed]",
      "text/plain": [
       "<Figure size 432x288 with 1 Axes>"
      ]
     },
     "metadata": {
      "needs_background": "light"
     },
     "output_type": "display_data"
    }
   ],
   "source": [
    "# Analyze top100 and bottom100 datasets\n",
    "\n",
    "# Budget boxplots\n",
    "top100_budget = top100_df[\"budget\"].values\n",
    "bot100_budget = bottom100_df[\"budget\"].values\n",
    "\n",
    "plt.boxplot([top100_budget, bot100_budget], labels=[\"top100\", \"bottom100\"])\n",
    "plt.title(\"Movie Budget Boxplots\")\n",
    "plt.ylabel(\"Budget in $100 million\")\n",
    "plt.show()"
   ]
  },
  {
   "cell_type": "code",
   "execution_count": 104,
   "metadata": {},
   "outputs": [],
   "source": [
    "# Release Season Histogram\n",
    "top100_relseason = top100_df[\"release_season\"].value_counts()\n",
    "bott100_relseason_counts = bottom100_df[\"release_season\"].value_counts()"
   ]
  },
  {
   "cell_type": "code",
   "execution_count": 105,
   "metadata": {},
   "outputs": [
    {
     "name": "stdout",
     "output_type": "stream",
     "text": [
      "Summer    97\n",
      "Name: release_season, dtype: int64\n",
      "Summer    100\n",
      "Name: release_season, dtype: int64\n"
     ]
    }
   ],
   "source": [
    "print (top100_relseason_counts)\n",
    "print (bott100_relseason_counts)"
   ]
  },
  {
   "cell_type": "code",
   "execution_count": null,
   "metadata": {},
   "outputs": [],
   "source": [
    "# Most Common Genres\n"
   ]
  }
 ],
 "metadata": {
  "kernelspec": {
   "display_name": "Python 3",
   "language": "python",
   "name": "python3"
  },
  "language_info": {
   "codemirror_mode": {
    "name": "ipython",
    "version": 3
   },
   "file_extension": ".py",
   "mimetype": "text/x-python",
   "name": "python",
   "nbconvert_exporter": "python",
   "pygments_lexer": "ipython3",
   "version": "3.6.6"
  },
  "varInspector": {
   "cols": {
    "lenName": 16,
    "lenType": 16,
    "lenVar": 40
   },
   "kernels_config": {
    "python": {
     "delete_cmd_postfix": "",
     "delete_cmd_prefix": "del ",
     "library": "var_list.py",
     "varRefreshCmd": "print(var_dic_list())"
    },
    "r": {
     "delete_cmd_postfix": ") ",
     "delete_cmd_prefix": "rm(",
     "library": "var_list.r",
     "varRefreshCmd": "cat(var_dic_list()) "
    }
   },
   "types_to_exclude": [
    "module",
    "function",
    "builtin_function_or_method",
    "instance",
    "_Feature"
   ],
   "window_display": false
  }
 },
 "nbformat": 4,
 "nbformat_minor": 2
}
