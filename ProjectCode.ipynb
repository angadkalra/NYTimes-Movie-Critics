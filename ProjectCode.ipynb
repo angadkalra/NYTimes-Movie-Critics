{
 "cells": [
  {
   "cell_type": "markdown",
   "metadata": {
    "slideshow": {
     "slide_type": "slide"
    }
   },
   "source": [
    "# Analysis of Movie Critics, Their Opinions, and What Makes a Good Movie?\n",
    "\n",
    "**Report Author:** Angad Kalra  \n",
    "**SN:** 1005134999  \n",
    "**Summary:** Analysis on NYT movie critics, movies they've reviewed, and characteristics of movies affecting revenue."
   ]
  },
  {
   "cell_type": "markdown",
   "metadata": {
    "slideshow": {
     "slide_type": "slide"
    }
   },
   "source": [
    "## Introduction"
   ]
  },
  {
   "cell_type": "markdown",
   "metadata": {
    "slideshow": {
     "slide_type": "subslide"
    }
   },
   "source": [
    "#### The purpose of this report is to answer three questions:\n",
    "1. How accurate are current NYT movie critics when it comes to predicting box office hits?\n",
    "2. Do the critic's movie reviews align with whether the movie was a critic's pick?\n",
    "3. What characteristics are unique among movies that perform well financially?\n",
    "\n",
    "#### Due to limited API requests, only recent movies and reviews were considered. "
   ]
  },
  {
   "cell_type": "markdown",
   "metadata": {
    "slideshow": {
     "slide_type": "slide"
    }
   },
   "source": [
    "## Methods"
   ]
  },
  {
   "cell_type": "markdown",
   "metadata": {
    "slideshow": {
     "slide_type": "subslide"
    }
   },
   "source": [
    "Q1:  \n",
    "* For each critic, their most recent picks were gathered from NYT API; for each pick, the box office total was requested from TMDB API. \n",
    "* To determine the accuracy of a critic, I counted how many critic picks had box office totals greater than $100 million and divided that number by the total number of picks.  "
   ]
  },
  {
   "cell_type": "markdown",
   "metadata": {
    "slideshow": {
     "slide_type": "slide"
    }
   },
   "source": [
    "Q2:  \n",
    "* For each critic, sentiment analysis was performed on their recent movie reviews (scraped from NYT website) resulting in a value between -1 and 1 (sentiment polarity).  \n",
    "* Each review was plotted on a 2 dimensional plot with their x-coordinate being sentiment polarity and y-coordinate being 1 or 0, depending on if the movie was a critic's pick or not. \n",
    "* (still need to determine relationship...)   "
   ]
  },
  {
   "cell_type": "markdown",
   "metadata": {
    "slideshow": {
     "slide_type": "slide"
    }
   },
   "source": [
    "Q3:  \n",
    "* Using the TMDB API, I retrieved all movies released between January 2010 and January 2017 and sorted them by descending revenue.  \n",
    "* Movies ranked 1st - 100th were put into one dataset, and movies ranked 200th - 300th were put into another dataset.\n",
    "* Movie characteristics compared were budget, genres, and release season.  \n",
    "* To compare budget, a side-by-side boxplot was used.  \n",
    "* To compare release season, mode was used.  \n",
    "* To compare genres, I will count the frequency of each genre in each dataset and rank them in descending order. "
   ]
  },
  {
   "cell_type": "code",
   "execution_count": 71,
   "metadata": {
    "code_folding": [
     0
    ],
    "slideshow": {
     "slide_type": "skip"
    }
   },
   "outputs": [],
   "source": [
    "# Setup code\n",
    "import numpy as np\n",
    "import pandas as pd\n",
    "import requests, json, os, sys, time \n",
    "import matplotlib.pyplot as plt\n",
    "from sklearn import linear_model\n",
    "\n",
    "# Sample data collection code\n",
    "\n",
    "# API urls & keys\n",
    "nyt_url = \"http://api.nytimes.com/svc/movies/v2\"\n",
    "nyt_apikey = \"72aaefb1f009451e986a0e446468f649\"\n",
    "\n",
    "tmdb_url = \"https://api.themoviedb.org/3\"\n",
    "tmdb_apikey = \"49200255c3dc5d6af15e04656ea5f7c4\"\n",
    "\n",
    "# List of critics\n",
    "url = nyt_url + \"/critics/full-time.json\"\n",
    "critics_res = requests.get(url, params={\"api-key\": nyt_apikey})\n",
    "if critics_res.status_code == 200:\n",
    "    critics_res = json.loads(critics_res.text)\n",
    "    critics = [x[\"display_name\"] for x in critics_res[\"results\"]]\n",
    "else:\n",
    "    print(json.loads(critics_res.text))\n",
    "\n",
    "# List of genres\n",
    "genres_url = tmdb_url + \"/genre/movie/list\"\n",
    "genres_resp = requests.get(genres_url, params={\"api_key\": tmdb_apikey})\n",
    "if genres_resp.status_code == 200:\n",
    "    genres = json.loads(genres_resp.text)\n",
    "    genres = [x[\"name\"] for x in genres[\"genres\"]]\n",
    "else:\n",
    "    print(json.loads(genres_resp.text))"
   ]
  },
  {
   "cell_type": "markdown",
   "metadata": {
    "slideshow": {
     "slide_type": "slide"
    }
   },
   "source": [
    "## Results"
   ]
  },
  {
   "cell_type": "markdown",
   "metadata": {
    "slideshow": {
     "slide_type": "slide"
    }
   },
   "source": [
    "### Q1"
   ]
  },
  {
   "cell_type": "code",
   "execution_count": null,
   "metadata": {
    "code_folding": [
     0
    ],
    "slideshow": {
     "slide_type": "skip"
    }
   },
   "outputs": [],
   "source": [
    "# Table of movies + financial outcome\n",
    "url = nyt_url + \"/reviews/search.json\"\n",
    "critics_list = []\n",
    "movie_titles = []\n",
    "box_office_total = []\n",
    "\n",
    "def get_bo_total(c, i):\n",
    "    resp = requests.get(url, params={\"api-key\": nyt_apikey, \"critics-pick\": \"Y\", \"reviewer\": c,\n",
    "                                            \"offset\": int(i*20)})\n",
    "    \n",
    "    if resp.status_code == 200:\n",
    "        resp = json.loads(resp.text)\n",
    "    else:\n",
    "        print(json.loads(resp.text))\n",
    "\n",
    "    results = resp[\"results\"]\n",
    "\n",
    "    for r in results:\n",
    "        tmdb_resp = requests.get(tmdb_url + \"/search/movie\", \n",
    "                            params={\"api_key\": tmdb_apikey, \"query\": r[\"display_title\"], \n",
    "                                    \"primary_release_year\": int(r[\"publication_date\"][0:4]) })\n",
    "        \n",
    "        if tmdb_resp.status_code == 200:\n",
    "            tmdb_resp = json.loads(tmdb_resp.text)\n",
    "\n",
    "            if (tmdb_resp[\"total_results\"] > 0):\n",
    "                mid = tmdb_resp[\"results\"][0][\"id\"]\n",
    "                movie_info = requests.get(tmdb_url + \"/movie/{}\".format(mid), params={\"api_key\": tmdb_apikey})\n",
    "                \n",
    "                if movie_info.status_code == 200:\n",
    "                    movie_info = json.loads(movie_info.text)\n",
    "\n",
    "                    if (movie_info[\"revenue\"] > 0):\n",
    "                        critics_list.append(c)\n",
    "                        movie_titles.append(movie_info[\"title\"])\n",
    "                        box_office_total.append(movie_info[\"revenue\"])\n",
    "        elif tmdb_resp.status_code == 429:\n",
    "            time.sleep(12)\n",
    "            \n",
    "            tmdb_resp = requests.get(tmdb_url + \"/search/movie\", \n",
    "                            params={\"api_key\": tmdb_apikey, \"query\": r[\"display_title\"], \n",
    "                                    \"primary_release_year\": int(r[\"publication_date\"][0:4]) })\n",
    "            \n",
    "            tmdb_resp = json.loads(tmdb_resp.text)\n",
    "\n",
    "            if (tmdb_resp[\"total_results\"] > 0):\n",
    "                mid = tmdb_resp[\"results\"][0][\"id\"]\n",
    "                movie_info = requests.get(tmdb_url + \"/movie/{}\".format(mid), params={\"api_key\": tmdb_apikey})\n",
    "                \n",
    "                if movie_info.status_code == 200:\n",
    "                    movie_info = json.loads(movie_info.text)\n",
    "\n",
    "                    if (movie_info[\"revenue\"] > 0):\n",
    "                        critics_list.append(c)\n",
    "                        movie_titles.append(movie_info[\"title\"])\n",
    "                        box_office_total.append(movie_info[\"revenue\"])\n",
    "            \n",
    "                \n",
    "# Get critic pick movies for each critic + info and create dataframe.\n",
    "for c in critics:\n",
    "    for i in range(0, 5):\n",
    "        get_bo_total(c, i)\n",
    "        \n",
    "# Create DataFrame from critics, movies, box office revenue. \n",
    "df_dict = {\"critic\": pd.Series(critics_list, dtype=str), \"movie_title\": pd.Series(movie_titles, dtype=str), \n",
    "                        \"box_office_total\": pd.Series(box_office_total, dtype=np.int64)}\n",
    "q1_df = pd.DataFrame(df_dict)\n",
    "\n",
    "# Save data to csv\n",
    "q1_df.to_csv(path_or_buf=\"q1_df.csv\")"
   ]
  },
  {
   "cell_type": "code",
   "execution_count": 6,
   "metadata": {
    "slideshow": {
     "slide_type": "subslide"
    }
   },
   "outputs": [
    {
     "name": "stdout",
     "output_type": "stream",
     "text": [
      "Critic: A. O. Scott, # of Picks: 51, Accuracy: 0.35294117647058826\n",
      "\n",
      "Critic: Manohla Dargis, # of Picks: 55, Accuracy: 0.34545454545454546\n",
      "\n",
      "Critic: Stephen Holden, # of Picks: 26, Accuracy: 0.038461538461538464\n",
      "\n"
     ]
    }
   ],
   "source": [
    "# Load q1_df from csv\n",
    "q1_df = pd.read_csv(\"q1_df.csv\")\n",
    "\n",
    "# Analyze Critic BOH Prediction Accuracy\n",
    "box_office_hit = 60000000\n",
    "\n",
    "for c in critics:\n",
    "    c_movies = q1_df.loc[q1_df[\"critic\"] == c]\n",
    "    num_movies = c_movies.shape[0]\n",
    "    num_hits = c_movies.loc[c_movies[\"box_office_total\"] >= box_office_hit].shape[0]\n",
    "    accuracy = num_hits/num_movies\n",
    "    \n",
    "    print(\"Critic: {0}, # of Picks: {2}, Accuracy: {1}\\n\".format(c, accuracy, num_movies))"
   ]
  },
  {
   "cell_type": "markdown",
   "metadata": {},
   "source": [
    "* A. O. Scott and Manohla Dargis have the highest accuracies out of the three critics, around 35%. \n",
    "* Overall, the three critics shown here are not accurate at predicitng box office hits."
   ]
  },
  {
   "cell_type": "markdown",
   "metadata": {
    "slideshow": {
     "slide_type": "slide"
    }
   },
   "source": [
    "### Q2"
   ]
  },
  {
   "cell_type": "code",
   "execution_count": 95,
   "metadata": {
    "code_folding": [],
    "scrolled": false,
    "slideshow": {
     "slide_type": "skip"
    }
   },
   "outputs": [],
   "source": [
    "# Table of movies + review sentiment\n",
    "from bs4 import BeautifulSoup\n",
    "from textblob import TextBlob\n",
    "\n",
    "url = nyt_url + \"/reviews/search.json\"\n",
    "critics_list = []\n",
    "movie_titles = []\n",
    "movie_reviews = []\n",
    "review_sentiment = []\n",
    "critic_pick = []\n",
    "\n",
    "def get_movie_reviews(c, i):\n",
    "    resp = requests.get(url, params={\"api-key\": nyt_apikey, \"reviewer\": c, \"offset\": int(i*20)})\n",
    "    \n",
    "    if resp.status_code == 200:\n",
    "        resp = json.loads(resp.text)\n",
    "    else:\n",
    "        print(json.loads(resp.text))\n",
    "        \n",
    "    results = resp[\"results\"]\n",
    "    \n",
    "    # For each review by critic, get the review using url\n",
    "    for r in results:\n",
    "        review_url = r[\"link\"][\"url\"]\n",
    "        resp = requests.get(review_url)\n",
    "        \n",
    "        if resp.status_code == 200:\n",
    "            resp = resp.text\n",
    "            soup = BeautifulSoup(resp, 'html.parser')\n",
    "            article = soup.find('section', attrs={'name': \"articleBody\"})\n",
    "            paragraphs = article.find_all('p', class_=\"css-1xl4flh e2kc3sl0\")\n",
    "            \n",
    "            if (len(paragraphs) > 0):\n",
    "                review = []\n",
    "                \n",
    "                for p in paragraphs:\n",
    "                    review.append(p.text)\n",
    "                \n",
    "                review = \"\".join(review)\n",
    "                movie_reviews.append(review)\n",
    "                review = TextBlob(review)\n",
    "                \n",
    "                critics_list.append(c)\n",
    "                review_sentiment.append(review.sentiment.polarity)\n",
    "                movie_titles.append(r[\"display_title\"])\n",
    "                critic_pick.append(r[\"critics_pick\"])\n",
    "\n",
    "for c in critics:\n",
    "    for i in range(0,3):\n",
    "        get_movie_reviews(c,i)\n",
    "    \n",
    "# Create DataFrame from movies, review sentiment and critic's pick. \n",
    "df_dict = {\"critic\": pd.Series(critics_list, dtype=str), \"movie_title\": pd.Series(movie_titles, dtype=str), \n",
    "               \"review_sentiment\": pd.Series(review_sentiment, dtype=np.float16), \n",
    "                   \"critic_pick\": pd.Series(critic_pick, dtype=np.bool)}\n",
    "\n",
    "q2_df = pd.DataFrame(df_dict)\n",
    "\n",
    "# Save q2_df to file\n",
    "q2_df.to_csv(path_or_buf=\"q2_df.csv\")"
   ]
  },
  {
   "cell_type": "code",
   "execution_count": 98,
   "metadata": {
    "code_folding": [],
    "slideshow": {
     "slide_type": "skip"
    }
   },
   "outputs": [
    {
     "data": {
      "image/png": "[encoded data removed]",
      "text/plain": [
       "<Figure size 432x288 with 1 Axes>"
      ]
     },
     "metadata": {
      "needs_background": "light"
     },
     "output_type": "display_data"
    },
    {
     "data": {
      "image/png": "[encoded data removed]",
      "text/plain": [
       "<Figure size 432x288 with 1 Axes>"
      ]
     },
     "metadata": {
      "needs_background": "light"
     },
     "output_type": "display_data"
    },
    {
     "data": {
      "image/png": "[encoded data removed]",
      "text/plain": [
       "<Figure size 432x288 with 1 Axes>"
      ]
     },
     "metadata": {
      "needs_background": "light"
     },
     "output_type": "display_data"
    }
   ],
   "source": [
    "# Load q2_df from csv\n",
    "q2_df = pd.read_csv(\"q2_df.csv\")\n",
    "q2_df = q2_df.drop('Unnamed: 0', axis=1)\n",
    "\n",
    "# Analyze Critic Pick vs Sentiment Analysis\n",
    "model = linear_model.LogisticRegression(solver='lbfgs')\n",
    "\n",
    "for index, c in enumerate(critics):\n",
    "    plt.figure(index+1)\n",
    "    \n",
    "    critic_df = q2_df.loc[q2_df[\"critic\"] == c]\n",
    "    x_vals = critic_df[\"review_sentiment\"].values.reshape(-1,1)\n",
    "    y_vals = np.array([int(x) for x in critic_df[\"critic_pick\"]])\n",
    "    clf = model.fit(x_vals, y_vals)\n",
    "    y_pred = model.predict_proba(x_vals)\n",
    "    \n",
    "    plt.scatter(x_vals, y_vals)\n",
    "    plt.scatter(x_vals, y_pred[:,1]) \n",
    "    plt.axis([-0.1, 0.30, -0.25, 1.25])\n",
    "    plt.xlabel(\"Sentiment Polarity\")\n",
    "    plt.ylabel(\"Critic's Pick (Y: 1, N: 0)\")\n",
    "    plt.title(\"Review Sentiment v. {}\".format(c))\n",
    "    plt.grid(True)\n",
    "    \n",
    "    plt.show()\n",
    "\n",
    "    "
   ]
  },
  {
   "cell_type": "markdown",
   "metadata": {},
   "source": [
    "* There does not seem to be a clear relationship between review sentiment and being a critic's pick.\n",
    "* Almost all movies with negative sentiment were not selected by critics. \n",
    "* Movies with positive sentiment "
   ]
  },
  {
   "cell_type": "markdown",
   "metadata": {
    "slideshow": {
     "slide_type": "slide"
    }
   },
   "source": [
    "### Q3"
   ]
  },
  {
   "cell_type": "code",
   "execution_count": null,
   "metadata": {
    "code_folding": [
     0
    ],
    "slideshow": {
     "slide_type": "skip"
    }
   },
   "outputs": [],
   "source": [
    "# Top 100 revenue movie characteristics\n",
    "\n",
    "top100_url = tmdb_url + \"/discover/movie\"\n",
    "top100_movies = []\n",
    "\n",
    "def handle_resp(resp):\n",
    "    resp = json.loads(resp.text)\n",
    "    results = resp[\"results\"]\n",
    "\n",
    "    for r in results:\n",
    "        mid = r[\"id\"]\n",
    "        movie_info = requests.get(tmdb_url + \"/movie/{}\".format(mid), \n",
    "                                params={\"api_key\": tmdb_apikey})\n",
    "\n",
    "        if movie_info.status_code == 200:\n",
    "            movie_info = json.loads(movie_info.text)\n",
    "            top100_movies.append({\"budget\": movie_info[\"budget\"], \"genres\": movie_info[\"genres\"], \n",
    "                                  \"release_date\": movie_info[\"release_date\"],\n",
    "                                    \"revenue\": movie_info[\"revenue\"], \"title\": movie_info[\"title\"]} )\n",
    "        else:\n",
    "            print(json.loads(movie_info.text))\n",
    "            continue\n",
    "\n",
    "for i in range(1,6):\n",
    "    resp = requests.get(top100_url, params={\"api_key\": tmdb_apikey, \"sort_by\": \"revenue.desc\", \"page\": i,\n",
    "                                           \"primary_release_date.gte\": \"2010-01-01\", \n",
    "                                            \"primary_release_data.lte\": \"2017-01-01\"})\n",
    "    if (resp.status_code == 200):\n",
    "        handle_resp(resp) \n",
    "    elif resp.status_code == 429:\n",
    "        time.sleep(13)\n",
    "        resp = requests.get(top100_url, params={\"api_key\": tmdb_apikey, \"sort_by\": \"revenue.desc\", \"page\": i,\n",
    "                                           \"primary_release_date.gte\": \"2010-01-01\", \n",
    "                                            \"primary_release_data.lte\": \"2017-01-01\"})\n",
    "        handle_resp(resp)\n",
    "    else:\n",
    "        print(json.loads(resp.text))\n"
   ]
  },
  {
   "cell_type": "code",
   "execution_count": 24,
   "metadata": {
    "code_folding": [
     0
    ],
    "slideshow": {
     "slide_type": "skip"
    }
   },
   "outputs": [],
   "source": [
    "# Create top 100 movies DataFrame\n",
    "top100_cols = [\"title\", \"budget\", \"release_season\"]\n",
    "top100_cols.extend(genres)\n",
    "top100_cols.append(\"revenue\")\n",
    "\n",
    "df_dict = {}\n",
    "for key in top100_cols:\n",
    "    df_dict[key] = []\n",
    "\n",
    "for g in genres:\n",
    "    df_dict[g] = [0]*len(top100_movies)\n",
    "    \n",
    "for ind, movie in enumerate(top100_movies):\n",
    "    df_dict[\"budget\"].append(movie[\"budget\"])\n",
    "    df_dict[\"title\"].append(movie[\"title\"])\n",
    "    df_dict[\"revenue\"].append(movie[\"revenue\"])\n",
    "    \n",
    "    movie_genres = [x[\"name\"] for x in movie[\"genres\"]]\n",
    "    \n",
    "    for g in movie_genres:\n",
    "        df_dict[g][ind] = 1\n",
    "        \n",
    "    release_month = int(movie[\"release_date\"].split(\"-\")[1])\n",
    "    \n",
    "    if release_month in [1, 2, 12]:\n",
    "        df_dict[\"release_season\"] = \"Winter\"\n",
    "    elif release_month in [3, 4, 5]:\n",
    "        df_dict[\"release_season\"] = \"Spring\"\n",
    "    elif release_month in [6, 7, 8]:\n",
    "        df_dict[\"release_season\"] = \"Summer\"\n",
    "    else:\n",
    "        df_dict[\"release_season\"] = \"Fall\"\n",
    "\n",
    "top100_df = pd.DataFrame.from_dict(df_dict)\n",
    "\n",
    "# Save top100_df to csv\n",
    "top100_df.to_csv(path_or_buf=\"top100_df.csv\")"
   ]
  },
  {
   "cell_type": "code",
   "execution_count": null,
   "metadata": {
    "code_folding": [
     0
    ],
    "slideshow": {
     "slide_type": "skip"
    }
   },
   "outputs": [],
   "source": [
    "# Bottom 100 revenue movie characteristics\n",
    "\n",
    "bottom100_url = tmdb_url + \"/discover/movie\"\n",
    "bottom100_movies = []\n",
    "\n",
    "# buffer between top100 movies code running\n",
    "time.sleep(11)\n",
    "\n",
    "def handle_resp(resp):\n",
    "    resp = json.loads(resp.text)\n",
    "    results = resp[\"results\"]\n",
    "\n",
    "    for r in results:\n",
    "        mid = r[\"id\"]\n",
    "        movie_info = requests.get(tmdb_url + \"/movie/{}\".format(mid), \n",
    "                                params={\"api_key\": tmdb_apikey})\n",
    "\n",
    "        if movie_info.status_code == 200:\n",
    "            movie_info = json.loads(movie_info.text)\n",
    "            bottom100_movies.append({\"budget\": movie_info[\"budget\"], \"genres\": movie_info[\"genres\"], \n",
    "                                  \"release_date\": movie_info[\"release_date\"],\n",
    "                                    \"revenue\": movie_info[\"revenue\"], \"title\": movie_info[\"title\"]} )\n",
    "        else:\n",
    "            print(json.loads(movie_info.text))\n",
    "            continue \n",
    "\n",
    "for i in range(10,16):\n",
    "    resp = requests.get(bottom100_url, params={\"api_key\": tmdb_apikey, \"sort_by\": \"revenue.desc\", \"page\": i,\n",
    "                                           \"primary_release_date.gte\": \"2010-01-01\", \n",
    "                                            \"primary_release_data.lte\": \"2017-01-01\"})\n",
    "    if (resp.status_code == 200):\n",
    "        handle_resp(resp)\n",
    "    elif resp.status_code == 429:\n",
    "        time.sleep(13)\n",
    "        resp = requests.get(bottom100_url, params={\"api_key\": tmdb_apikey, \"sort_by\": \"revenue.desc\", \"page\": i,\n",
    "                                           \"primary_release_date.gte\": \"2010-01-01\", \n",
    "                                            \"primary_release_data.lte\": \"2017-01-01\"})\n",
    "        handle_resp(resp)\n",
    "    else:\n",
    "        json.loads(resp.text)\n",
    "\n"
   ]
  },
  {
   "cell_type": "code",
   "execution_count": 27,
   "metadata": {
    "code_folding": [
     0
    ],
    "slideshow": {
     "slide_type": "skip"
    }
   },
   "outputs": [],
   "source": [
    "# Create bottom 100 movies DataFrame\n",
    "bottom100_cols = [\"title\", \"budget\", \"release_season\"]\n",
    "bottom100_cols.extend(genres)\n",
    "bottom100_cols.append(\"revenue\")\n",
    "\n",
    "df_dict = {}\n",
    "for key in bottom100_cols:\n",
    "    df_dict[key] = []\n",
    "\n",
    "for g in genres:\n",
    "    df_dict[g] = [0]*len(bottom100_movies)\n",
    "    \n",
    "for ind, movie in enumerate(bottom100_movies):\n",
    "    df_dict[\"budget\"].append(movie[\"budget\"])\n",
    "    df_dict[\"title\"].append(movie[\"title\"])\n",
    "    df_dict[\"revenue\"].append(movie[\"revenue\"])\n",
    "    \n",
    "    movie_genres = [x[\"name\"] for x in movie[\"genres\"]]\n",
    "    for g in movie_genres:\n",
    "        df_dict[g][ind] = 1\n",
    "        \n",
    "    release_month = int(movie[\"release_date\"].split(\"-\")[1])\n",
    "    \n",
    "    if release_month in [1, 2, 12]:\n",
    "        df_dict[\"release_season\"] = \"Winter\"\n",
    "    elif release_month in [3, 4, 5]:\n",
    "        df_dict[\"release_season\"] = \"Spring\"\n",
    "    elif release_month in [6, 7, 8]:\n",
    "        df_dict[\"release_season\"] = \"Summer\"\n",
    "    else:\n",
    "        df_dict[\"release_season\"] = \"Fall\"\n",
    "\n",
    "bottom100_df = pd.DataFrame.from_dict(df_dict)\n",
    "\n",
    "# Save data to file\n",
    "bottom100_df.to_csv(path_or_buf=\"bottom100_df.csv\")"
   ]
  },
  {
   "cell_type": "code",
   "execution_count": 94,
   "metadata": {
    "code_folding": [],
    "slideshow": {
     "slide_type": "subslide"
    }
   },
   "outputs": [
    {
     "data": {
      "image/png": "[encoded data removed]",
      "text/plain": [
       "<Figure size 432x288 with 1 Axes>"
      ]
     },
     "metadata": {
      "needs_background": "light"
     },
     "output_type": "display_data"
    }
   ],
   "source": [
    "# Revenue boxplots\n",
    "\n",
    "top100_rev = top100_df[\"revenue\"].values\n",
    "bot100_rev = bottom100_df[\"revenue\"].values\n",
    "\n",
    "plt.boxplot([top100_rev, bot100_rev], labels=[\"top100\", \"bottom100\"])\n",
    "plt.title(\"Movie Revenue Boxplots\")\n",
    "plt.ylabel(\"Revenue in $1 billion\")\n",
    "plt.show()\n",
    "\n"
   ]
  },
  {
   "cell_type": "code",
   "execution_count": 29,
   "metadata": {
    "code_folding": [
     0
    ],
    "slideshow": {
     "slide_type": "slide"
    }
   },
   "outputs": [
    {
     "data": {
      "image/png": "[encoded data removed]",
      "text/plain": [
       "<Figure size 432x288 with 1 Axes>"
      ]
     },
     "metadata": {
      "needs_background": "light"
     },
     "output_type": "display_data"
    }
   ],
   "source": [
    "# Analyze top100 and bottom100 datasets\n",
    "\n",
    "# Budget boxplots\n",
    "top100_budget = top100_df[\"budget\"].values\n",
    "bot100_budget = bottom100_df[\"budget\"].values\n",
    "\n",
    "plt.boxplot([top100_budget, bot100_budget], labels=[\"top100\", \"bottom100\"])\n",
    "plt.title(\"Movie Budget Boxplots\")\n",
    "plt.ylabel(\"Budget in $100 million\")\n",
    "plt.show()"
   ]
  },
  {
   "cell_type": "code",
   "execution_count": 73,
   "metadata": {
    "code_folding": [],
    "slideshow": {
     "slide_type": "slide"
    }
   },
   "outputs": [
    {
     "name": "stdout",
     "output_type": "stream",
     "text": [
      "Summer    98\n",
      "Name: release_season, dtype: int64\n",
      "Summer    119\n",
      "Name: release_season, dtype: int64\n"
     ]
    }
   ],
   "source": [
    "# Release Season Histogram\n",
    "top100_relseason_counts = top100_df[\"release_season\"].value_counts()\n",
    "bott100_relseason_counts = bottom100_df[\"release_season\"].value_counts()\n",
    "\n",
    "print (top100_relseason_counts)\n",
    "print (bott100_relseason_counts)"
   ]
  },
  {
   "cell_type": "code",
   "execution_count": 51,
   "metadata": {
    "code_folding": [
     0
    ],
    "slideshow": {
     "slide_type": "skip"
    }
   },
   "outputs": [],
   "source": [
    "# Genre Analysis\n",
    "top100_genres = top100_df.iloc[:,3:21]\n",
    "bott100_genres = bottom100_df.iloc[:, 3:21]\n",
    "\n",
    "top100_genres_sum = top100_genres.sum(axis=0)\n",
    "top100_genres_sum = top100_genres_sum.sort_values(ascending=False)\n",
    "\n",
    "bott100_genres_sum = bott100_genres.sum(axis=0)\n",
    "bott100_genres_sum = bott100_genres_sum.sort_values(ascending=False)"
   ]
  },
  {
   "cell_type": "code",
   "execution_count": 92,
   "metadata": {
    "slideshow": {
     "slide_type": "fragment"
    }
   },
   "outputs": [
    {
     "data": {
      "text/plain": [
       "<matplotlib.axes._subplots.AxesSubplot at 0x7f89bd835ef0>"
      ]
     },
     "execution_count": 92,
     "metadata": {},
     "output_type": "execute_result"
    },
    {
     "data": {
      "image/png": "[encoded data removed]",
      "text/plain": [
       "<Figure size 432x288 with 1 Axes>"
      ]
     },
     "metadata": {
      "needs_background": "light"
     },
     "output_type": "display_data"
    }
   ],
   "source": [
    "top100_genres_sum[:10].plot.bar()"
   ]
  },
  {
   "cell_type": "code",
   "execution_count": 93,
   "metadata": {
    "slideshow": {
     "slide_type": "fragment"
    }
   },
   "outputs": [
    {
     "data": {
      "text/plain": [
       "<matplotlib.axes._subplots.AxesSubplot at 0x7f89bd8622e8>"
      ]
     },
     "execution_count": 93,
     "metadata": {},
     "output_type": "execute_result"
    },
    {
     "data": {
      "image/png": "[encoded data removed]",
      "text/plain": [
       "<Figure size 432x288 with 1 Axes>"
      ]
     },
     "metadata": {
      "needs_background": "light"
     },
     "output_type": "display_data"
    }
   ],
   "source": [
    "bott100_genres_sum[:10].plot.bar()"
   ]
  },
  {
   "cell_type": "markdown",
   "metadata": {
    "slideshow": {
     "slide_type": "slide"
    }
   },
   "source": [
    "## Conclusion"
   ]
  },
  {
   "cell_type": "markdown",
   "metadata": {
    "slideshow": {
     "slide_type": "subslide"
    }
   },
   "source": [
    "Q1:  \n",
    "* Result Summary: \n",
    "    * All three critics had accuracies well below 50%, with the highest being 41% and lowest being 0%.\n",
    "* Limitations:\n",
    "    * The API from which revenue was retrieved had a limit on the number of requests per 10 seconds. \n",
    "    * The box office hit benchmark was arbitrary and chosen by me. \n",
    "* Future Considerations:\n",
    "    * Using more sophisticated API requests, retrieve more movie reviews per critic to get better accuracy measure. \n",
    "    * Analyze historical box office data to get more accurate benchmark of a box office hit. "
   ]
  },
  {
   "cell_type": "markdown",
   "metadata": {
    "slideshow": {
     "slide_type": "slide"
    }
   },
   "source": [
    "Q2:  \n",
    "* Result Summary: \n",
    "    * TODO...\n",
    "* Limitations:\n",
    "    * TODO... \n",
    "* Future Considerations:\n",
    "    * Use different sentiment analysis packages and compare results.\n",
    "    * TODO...\n"
   ]
  },
  {
   "cell_type": "markdown",
   "metadata": {
    "slideshow": {
     "slide_type": "slide"
    }
   },
   "source": [
    "Q3:  \n",
    "* Result Summary: \n",
    "    * TODO...\n",
    "* Limitations:\n",
    "    * The API from which revenue was retrieved had a limit on the number of requests per 10 seconds. \n",
    "    * TODO... \n",
    "* Future Considerations:\n",
    "    * Using more sophisticated API requests, retrieve more movies for both datasets. \n",
    "    * Include other influential movie characteristics such as director, main actors, movie language, part of sequel/trilogy/series, production companies.  \n",
    "    * TODO..."
   ]
  },
  {
   "cell_type": "code",
   "execution_count": null,
   "metadata": {},
   "outputs": [],
   "source": []
  }
 ],
 "metadata": {
  "kernelspec": {
   "display_name": "Python 3",
   "language": "python",
   "name": "python3"
  },
  "language_info": {
   "codemirror_mode": {
    "name": "ipython",
    "version": 3
   },
   "file_extension": ".py",
   "mimetype": "text/x-python",
   "name": "python",
   "nbconvert_exporter": "python",
   "pygments_lexer": "ipython3",
   "version": "3.6.6"
  },
  "varInspector": {
   "cols": {
    "lenName": 16,
    "lenType": 16,
    "lenVar": 40
   },
   "kernels_config": {
    "python": {
     "delete_cmd_postfix": "",
     "delete_cmd_prefix": "del ",
     "library": "var_list.py",
     "varRefreshCmd": "print(var_dic_list())"
    },
    "r": {
     "delete_cmd_postfix": ") ",
     "delete_cmd_prefix": "rm(",
     "library": "var_list.r",
     "varRefreshCmd": "cat(var_dic_list()) "
    }
   },
   "types_to_exclude": [
    "module",
    "function",
    "builtin_function_or_method",
    "instance",
    "_Feature"
   ],
   "window_display": false
  }
 },
 "nbformat": 4,
 "nbformat_minor": 2
}
