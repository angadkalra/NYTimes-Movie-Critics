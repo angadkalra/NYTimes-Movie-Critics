{
 "cells": [
  {
   "cell_type": "markdown",
   "metadata": {
    "hide_input": true,
    "slideshow": {
     "slide_type": "slide"
    }
   },
   "source": [
    "# Analysis of Movie Critics, Their Opinions, and What Makes a Good Movie?\n",
    "\n",
    "**Report Author:** Angad Kalra  \n",
    "**SN:** 1005134999  \n",
    "**Summary:** Analysis on NYT movie critics, movies they've reviewed, and characteristics of movies affecting revenue."
   ]
  },
  {
   "cell_type": "markdown",
   "metadata": {
    "hide_input": true,
    "slideshow": {
     "slide_type": "slide"
    }
   },
   "source": [
    "## Introduction"
   ]
  },
  {
   "cell_type": "markdown",
   "metadata": {
    "hide_input": true,
    "slideshow": {
     "slide_type": "subslide"
    }
   },
   "source": [
    "#### The purpose of this report is to answer three questions:\n",
    "1. How accurate are current NYT movie critics when it comes to predicting box office hits?\n",
    "2. Do the critic's movie reviews align with whether the movie was a critic's pick?\n",
    "3. What characteristics are unique among movies that perform well financially?\n",
    "\n",
    "#### Due to limited API requests, only recent movies and reviews were considered. "
   ]
  },
  {
   "cell_type": "markdown",
   "metadata": {
    "hide_input": true,
    "slideshow": {
     "slide_type": "slide"
    }
   },
   "source": [
    "## Methods"
   ]
  },
  {
   "cell_type": "markdown",
   "metadata": {
    "hide_input": false,
    "slideshow": {
     "slide_type": "subslide"
    }
   },
   "source": [
    "**Q1:**  \n",
    "1. For each critic, their most recent movie picks were requested from the NYT developer API. \n",
    "2. For each movie, their TMDB movie ID was obtained using TMDB \"search movie by title\" endpoint. Then, using the movie ID, the box office total for that movie was obtained from TMDB API. \n",
    "3. For each critic, their accuracy was calculated. The accuracy of a critic is defined as the ratio between the number of critic picks with box office totals greater than $100 million and the total number of movies reviewed.  "
   ]
  },
  {
   "cell_type": "markdown",
   "metadata": {
    "hide_input": true,
    "slideshow": {
     "slide_type": "slide"
    }
   },
   "source": [
    "**Q2:**  \n",
    "1. For each critic, their most recent movie reviews were obtained by scraping the NYT website.\n",
    "2. Sentiment analysis was performed on each movie, resulting in a value between -1 and 1 (sentiment polarity), and this result was stored in a table along side the movie title and movie review.  \n",
    "2. Each review was plotted on a 2-dimensional grid with the x-coordinate being sentiment polarity and y-coordinate being 1 or 0, indicating if the movie was a critic's pick or not, respectively. \n",
    "3. A logistic regresssion model was applied to the data and the prediction score was evaluated.    "
   ]
  },
  {
   "cell_type": "markdown",
   "metadata": {
    "hide_input": false,
    "slideshow": {
     "slide_type": "slide"
    }
   },
   "source": [
    "**Q3:**  \n",
    "1. Retrieve all movies, using TMDB API, released between January 2010 and January 2017 and sort them by descending revenue.  \n",
    "2. Movies ranked 1st - 100th are put into one dataset (top100), and movies ranked 200th - 300th are put into another dataset (bottom100).\n",
    "3. Movie characteristics compared were **budget, genre frequency, and release season.**  \n",
    "4. To compare budget, a side-by-side boxplot was used.  \n",
    "5. To compare release season, compare the season counts for each dataset.  \n",
    "6. To compare genres, count the frequency of each genre in each dataset and rank them in descending order. "
   ]
  },
  {
   "cell_type": "code",
   "execution_count": 15,
   "metadata": {
    "code_folding": [],
    "hide_input": true,
    "slideshow": {
     "slide_type": "skip"
    }
   },
   "outputs": [],
   "source": [
    "# Setup code\n",
    "import numpy as np\n",
    "import pandas as pd\n",
    "import requests, json, os, sys, time \n",
    "import matplotlib.pyplot as plt\n",
    "from sklearn import linear_model\n",
    "\n",
    "# Sample data collection code\n",
    "\n",
    "# API urls & keys\n",
    "nyt_url = \"http://api.nytimes.com/svc/movies/v2\"\n",
    "nyt_apikey = \"72aaefb1f009451e986a0e446468f649\"\n",
    "\n",
    "tmdb_url = \"https://api.themoviedb.org/3\"\n",
    "tmdb_apikey = \"49200255c3dc5d6af15e04656ea5f7c4\"\n",
    "\n",
    "# List of critics\n",
    "url = nyt_url + \"/critics/full-time.json\"\n",
    "critics_res = requests.get(url, params={\"api-key\": nyt_apikey})\n",
    "if critics_res.status_code == 200:\n",
    "    critics_res = json.loads(critics_res.text)\n",
    "    critics = [x[\"display_name\"] for x in critics_res[\"results\"]]\n",
    "else:\n",
    "    print(json.loads(critics_res.text))\n",
    "\n",
    "# List of genres\n",
    "genres_url = tmdb_url + \"/genre/movie/list\"\n",
    "genres_resp = requests.get(genres_url, params={\"api_key\": tmdb_apikey})\n",
    "if genres_resp.status_code == 200:\n",
    "    genres = json.loads(genres_resp.text)\n",
    "    genres = [x[\"name\"] for x in genres[\"genres\"]]\n",
    "else:\n",
    "    print(json.loads(genres_resp.text))"
   ]
  },
  {
   "cell_type": "markdown",
   "metadata": {
    "hide_input": true,
    "slideshow": {
     "slide_type": "slide"
    }
   },
   "source": [
    "## Results"
   ]
  },
  {
   "cell_type": "markdown",
   "metadata": {
    "hide_input": false,
    "slideshow": {
     "slide_type": "slide"
    }
   },
   "source": [
    "### Q1"
   ]
  },
  {
   "cell_type": "code",
   "execution_count": 16,
   "metadata": {
    "code_folding": [],
    "hide_input": true,
    "slideshow": {
     "slide_type": "skip"
    }
   },
   "outputs": [],
   "source": [
    "# # Table of movies + financial outcome\n",
    "# url = nyt_url + \"/reviews/search.json\"\n",
    "# critics_list = []\n",
    "# movie_titles = []\n",
    "# box_office_total = []\n",
    "\n",
    "# def get_bo_total(c, i):\n",
    "#     resp = requests.get(url, params={\"api-key\": nyt_apikey, \"critics-pick\": \"Y\", \"reviewer\": c,\n",
    "#                                             \"offset\": int(i*20)})\n",
    "    \n",
    "#     if resp.status_code == 200:\n",
    "#         resp = json.loads(resp.text)\n",
    "#     else:\n",
    "#         print(json.loads(resp.text))\n",
    "\n",
    "#     results = resp[\"results\"]\n",
    "\n",
    "#     for r in results:\n",
    "#         tmdb_resp = requests.get(tmdb_url + \"/search/movie\", \n",
    "#                             params={\"api_key\": tmdb_apikey, \"query\": r[\"display_title\"], \n",
    "#                                     \"primary_release_year\": int(r[\"publication_date\"][0:4]) })\n",
    "        \n",
    "#         if tmdb_resp.status_code == 200:\n",
    "#             tmdb_resp = json.loads(tmdb_resp.text)\n",
    "\n",
    "#             if (tmdb_resp[\"total_results\"] > 0):\n",
    "#                 mid = tmdb_resp[\"results\"][0][\"id\"]\n",
    "#                 movie_info = requests.get(tmdb_url + \"/movie/{}\".format(mid), params={\"api_key\": tmdb_apikey})\n",
    "                \n",
    "#                 if movie_info.status_code == 200:\n",
    "#                     movie_info = json.loads(movie_info.text)\n",
    "\n",
    "#                     if (movie_info[\"revenue\"] > 0):\n",
    "#                         critics_list.append(c)\n",
    "#                         movie_titles.append(movie_info[\"title\"])\n",
    "#                         box_office_total.append(movie_info[\"revenue\"])\n",
    "#         elif tmdb_resp.status_code == 429:\n",
    "#             time.sleep(12)\n",
    "            \n",
    "#             tmdb_resp = requests.get(tmdb_url + \"/search/movie\", \n",
    "#                             params={\"api_key\": tmdb_apikey, \"query\": r[\"display_title\"], \n",
    "#                                     \"primary_release_year\": int(r[\"publication_date\"][0:4]) })\n",
    "            \n",
    "#             tmdb_resp = json.loads(tmdb_resp.text)\n",
    "\n",
    "#             if (tmdb_resp[\"total_results\"] > 0):\n",
    "#                 mid = tmdb_resp[\"results\"][0][\"id\"]\n",
    "#                 movie_info = requests.get(tmdb_url + \"/movie/{}\".format(mid), params={\"api_key\": tmdb_apikey})\n",
    "                \n",
    "#                 if movie_info.status_code == 200:\n",
    "#                     movie_info = json.loads(movie_info.text)\n",
    "\n",
    "#                     if (movie_info[\"revenue\"] > 0):\n",
    "#                         critics_list.append(c)\n",
    "#                         movie_titles.append(movie_info[\"title\"])\n",
    "#                         box_office_total.append(movie_info[\"revenue\"])\n",
    "            \n",
    "                \n",
    "# # Get critic pick movies for each critic + info and create dataframe.\n",
    "# for c in critics:\n",
    "#     for i in range(0, 5):\n",
    "#         get_bo_total(c, i)\n",
    "        \n",
    "# # Create DataFrame from critics, movies, box office revenue. \n",
    "# df_dict = {\"critic\": pd.Series(critics_list, dtype=str), \"movie_title\": pd.Series(movie_titles, dtype=str), \n",
    "#                         \"box_office_total\": pd.Series(box_office_total, dtype=np.int64)}\n",
    "# q1_df = pd.DataFrame(df_dict)\n",
    "\n",
    "# # Save data to csv\n",
    "# q1_df.to_csv(path_or_buf=\"q1_df.csv\")"
   ]
  },
  {
   "cell_type": "code",
   "execution_count": 17,
   "metadata": {
    "hide_input": true,
    "scrolled": true,
    "slideshow": {
     "slide_type": "subslide"
    }
   },
   "outputs": [
    {
     "data": {
      "text/html": [
       "<div>\n",
       "<style scoped>\n",
       "    .dataframe tbody tr th:only-of-type {\n",
       "        vertical-align: middle;\n",
       "    }\n",
       "\n",
       "    .dataframe tbody tr th {\n",
       "        vertical-align: top;\n",
       "    }\n",
       "\n",
       "    .dataframe thead th {\n",
       "        text-align: right;\n",
       "    }\n",
       "</style>\n",
       "<table border=\"1\" class=\"dataframe\">\n",
       "  <thead>\n",
       "    <tr style=\"text-align: right;\">\n",
       "      <th></th>\n",
       "      <th>critic</th>\n",
       "      <th># Movies</th>\n",
       "      <th># Box Office Hits</th>\n",
       "      <th>Accuracy</th>\n",
       "    </tr>\n",
       "  </thead>\n",
       "  <tbody>\n",
       "    <tr>\n",
       "      <th>0</th>\n",
       "      <td>A. O. Scott</td>\n",
       "      <td>51</td>\n",
       "      <td>18</td>\n",
       "      <td>0.352941</td>\n",
       "    </tr>\n",
       "    <tr>\n",
       "      <th>1</th>\n",
       "      <td>Manohla Dargis</td>\n",
       "      <td>55</td>\n",
       "      <td>19</td>\n",
       "      <td>0.345455</td>\n",
       "    </tr>\n",
       "    <tr>\n",
       "      <th>2</th>\n",
       "      <td>Stephen Holden</td>\n",
       "      <td>26</td>\n",
       "      <td>1</td>\n",
       "      <td>0.038462</td>\n",
       "    </tr>\n",
       "  </tbody>\n",
       "</table>\n",
       "</div>"
      ],
      "text/plain": [
       "           critic  # Movies  # Box Office Hits  Accuracy\n",
       "0     A. O. Scott        51                 18  0.352941\n",
       "1  Manohla Dargis        55                 19  0.345455\n",
       "2  Stephen Holden        26                  1  0.038462"
      ]
     },
     "execution_count": 17,
     "metadata": {},
     "output_type": "execute_result"
    }
   ],
   "source": [
    "# Load q1_df from csv\n",
    "q1_df = pd.read_csv(\"https://raw.githubusercontent.com/angadkalra/NYTimes-Movie-Critics/master/q1_df.csv\")\n",
    "\n",
    "# Analyze Critic BOH Prediction Accuracy\n",
    "box_office_hit = 60000000\n",
    "\n",
    "num_movies = []\n",
    "num_hits = []\n",
    "accuracies = []\n",
    "\n",
    "for c in critics:\n",
    "    c_movies = q1_df.loc[q1_df[\"critic\"] == c]\n",
    "    num_movies.append(c_movies.shape[0])\n",
    "    num_hits.append(c_movies.loc[c_movies[\"box_office_total\"] >= box_office_hit].shape[0])\n",
    "    accuracies.append(c_movies.loc[c_movies[\"box_office_total\"] >= box_office_hit].shape[0]/c_movies.shape[0])\n",
    "    \n",
    "pd.DataFrame({\"critic\": critics, \"# Movies\": num_movies, \"# Box Office Hits\": num_hits, \"Accuracy\": accuracies})"
   ]
  },
  {
   "cell_type": "markdown",
   "metadata": {},
   "source": [
    "#### A. O. Scott and Manohla Dargis have the highest accuracies out of the three critics; approximately 35%. Overall, the three critics shown here are not accurate at predicitng box office hits since less than half of their picks are correct. "
   ]
  },
  {
   "cell_type": "markdown",
   "metadata": {
    "slideshow": {
     "slide_type": "slide"
    }
   },
   "source": [
    "### Q2"
   ]
  },
  {
   "cell_type": "code",
   "execution_count": 18,
   "metadata": {
    "code_folding": [],
    "hide_input": true,
    "scrolled": false,
    "slideshow": {
     "slide_type": "skip"
    }
   },
   "outputs": [],
   "source": [
    "# # Table of movies + review sentiment\n",
    "# from bs4 import BeautifulSoup\n",
    "# from textblob import TextBlob\n",
    "\n",
    "# url = nyt_url + \"/reviews/search.json\"\n",
    "# critics_list = []\n",
    "# movie_titles = []\n",
    "# movie_reviews = []\n",
    "# review_sentiment = []\n",
    "# critic_pick = []\n",
    "\n",
    "# def get_movie_reviews(c, i):\n",
    "#     resp = requests.get(url, params={\"api-key\": nyt_apikey, \"reviewer\": c, \"offset\": int(i*20)})\n",
    "    \n",
    "#     if resp.status_code == 200:\n",
    "#         resp = json.loads(resp.text)\n",
    "#     else:\n",
    "#         print(json.loads(resp.text))\n",
    "        \n",
    "#     results = resp[\"results\"]\n",
    "    \n",
    "#     # For each review by critic, get the review using url\n",
    "#     for r in results:\n",
    "#         review_url = r[\"link\"][\"url\"]\n",
    "#         resp = requests.get(review_url)\n",
    "        \n",
    "#         if resp.status_code == 200:\n",
    "#             resp = resp.text\n",
    "#             soup = BeautifulSoup(resp, 'html.parser')\n",
    "#             article = soup.find('section', attrs={'name': \"articleBody\"})\n",
    "#             paragraphs = article.find_all('p', class_=\"css-1xl4flh e2kc3sl0\")\n",
    "            \n",
    "#             if (len(paragraphs) > 0):\n",
    "#                 review = []\n",
    "                \n",
    "#                 for p in paragraphs:\n",
    "#                     review.append(p.text)\n",
    "                \n",
    "#                 review = \"\".join(review)\n",
    "#                 movie_reviews.append(review)\n",
    "#                 review = TextBlob(review)\n",
    "                \n",
    "#                 critics_list.append(c)\n",
    "#                 review_sentiment.append(review.sentiment.polarity)\n",
    "#                 movie_titles.append(r[\"display_title\"])\n",
    "#                 critic_pick.append(r[\"critics_pick\"])\n",
    "\n",
    "# for c in critics:\n",
    "#     for i in range(0,3):\n",
    "#         get_movie_reviews(c,i)\n",
    "    \n",
    "# # Create DataFrame from movies, review sentiment and critic's pick. \n",
    "# df_dict = {\"critic\": pd.Series(critics_list, dtype=str), \"movie_title\": pd.Series(movie_titles, dtype=str), \n",
    "#                \"review_sentiment\": pd.Series(review_sentiment, dtype=np.float16), \n",
    "#                    \"critic_pick\": pd.Series(critic_pick, dtype=np.bool)}\n",
    "\n",
    "# q2_df = pd.DataFrame(df_dict)\n",
    "\n",
    "# # Save q2_df to file\n",
    "# q2_df.to_csv(path_or_buf=\"q2_df.csv\")"
   ]
  },
  {
   "cell_type": "code",
   "execution_count": 19,
   "metadata": {
    "code_folding": [],
    "hide_input": true,
    "slideshow": {
     "slide_type": "skip"
    }
   },
   "outputs": [
    {
     "data": {
      "image/png": "[encoded data removed]",
      "text/plain": [
       "<Figure size 432x288 with 1 Axes>"
      ]
     },
     "metadata": {
      "needs_background": "light"
     },
     "output_type": "display_data"
    },
    {
     "data": {
      "image/png": "[encoded data removed]",
      "text/plain": [
       "<Figure size 432x288 with 1 Axes>"
      ]
     },
     "metadata": {
      "needs_background": "light"
     },
     "output_type": "display_data"
    },
    {
     "data": {
      "image/png": "[encoded data removed]",
      "text/plain": [
       "<Figure size 432x288 with 1 Axes>"
      ]
     },
     "metadata": {
      "needs_background": "light"
     },
     "output_type": "display_data"
    }
   ],
   "source": [
    "# Load q2_df from csv\n",
    "q2_df = pd.read_csv(\"https://raw.githubusercontent.com/angadkalra/NYTimes-Movie-Critics/master/q2_df.csv\")\n",
    "q2_df = q2_df.drop('Unnamed: 0', axis=1)\n",
    "\n",
    "# Analyze Critic Pick vs Sentiment Analysis\n",
    "\n",
    "model = linear_model.LogisticRegression(solver='lbfgs')\n",
    "\n",
    "for index, c in enumerate(critics):\n",
    "    plt.figure(index+1)\n",
    "    \n",
    "    critic_df = q2_df.loc[q2_df[\"critic\"] == c]\n",
    "    \n",
    "    x_vals = critic_df[\"review_sentiment\"].values.reshape(-1,1)\n",
    "    y_vals = np.array([int(x) for x in critic_df[\"critic_pick\"]])\n",
    "    clf = model.fit(x_vals, y_vals)\n",
    "    \n",
    "    y_pred_prob = model.predict_proba(x_vals)\n",
    "    \n",
    "    plt.scatter(x_vals, y_vals, label=\"actual values\")\n",
    "    plt.scatter(x_vals, y_pred_prob[:,1], label=\"model predictions\") \n",
    "    plt.axis([-0.1, 0.30, -0.25, 1.25])\n",
    "    plt.xlabel(\"Sentiment Polarity\")\n",
    "    plt.ylabel(\"Critic's Pick (Y: 1, N: 0)\")\n",
    "    plt.title(\"Review Sentiment v. {}\".format(c))\n",
    "    plt.legend(loc=6)\n",
    "    plt.grid(True)\n",
    "    \n",
    "    plt.show()\n",
    "\n",
    "    "
   ]
  },
  {
   "cell_type": "code",
   "execution_count": 20,
   "metadata": {
    "code_folding": [],
    "hide_input": true
   },
   "outputs": [
    {
     "data": {
      "text/html": [
       "<div>\n",
       "<style scoped>\n",
       "    .dataframe tbody tr th:only-of-type {\n",
       "        vertical-align: middle;\n",
       "    }\n",
       "\n",
       "    .dataframe tbody tr th {\n",
       "        vertical-align: top;\n",
       "    }\n",
       "\n",
       "    .dataframe thead th {\n",
       "        text-align: right;\n",
       "    }\n",
       "</style>\n",
       "<table border=\"1\" class=\"dataframe\">\n",
       "  <thead>\n",
       "    <tr style=\"text-align: right;\">\n",
       "      <th></th>\n",
       "      <th>critic</th>\n",
       "      <th>positive pick percentage</th>\n",
       "      <th>negative pick percentage</th>\n",
       "    </tr>\n",
       "  </thead>\n",
       "  <tbody>\n",
       "    <tr>\n",
       "      <th>0</th>\n",
       "      <td>A. O. Scott</td>\n",
       "      <td>0.383333</td>\n",
       "      <td>0.000000</td>\n",
       "    </tr>\n",
       "    <tr>\n",
       "      <th>1</th>\n",
       "      <td>Manohla Dargis</td>\n",
       "      <td>0.350000</td>\n",
       "      <td>0.000000</td>\n",
       "    </tr>\n",
       "    <tr>\n",
       "      <th>2</th>\n",
       "      <td>Stephen Holden</td>\n",
       "      <td>0.483333</td>\n",
       "      <td>0.016667</td>\n",
       "    </tr>\n",
       "  </tbody>\n",
       "</table>\n",
       "</div>"
      ],
      "text/plain": [
       "           critic  positive pick percentage  negative pick percentage\n",
       "0     A. O. Scott                  0.383333                  0.000000\n",
       "1  Manohla Dargis                  0.350000                  0.000000\n",
       "2  Stephen Holden                  0.483333                  0.016667"
      ]
     },
     "execution_count": 20,
     "metadata": {},
     "output_type": "execute_result"
    }
   ],
   "source": [
    "# % of positive reviews that are 1 and % of negative reviews that are 0\n",
    "pos_CPs = []\n",
    "neg_CPs = []\n",
    "for c in critics:\n",
    "    critic_df = q2_df.loc[q2_df[\"critic\"] == c]\n",
    "    pos_CPs.append(critic_df.loc[critic_df[\"review_sentiment\"] > 0][\"critic_pick\"].sum(axis=0)/critic_df.shape[0])\n",
    "    neg_CPs.append(critic_df.loc[critic_df[\"review_sentiment\"] < 0][\"critic_pick\"].sum(axis=0)/critic_df.shape[0])\n",
    "\n",
    "res_df = pd.DataFrame({\"critic\": critics, \"positive pick percentage\": pos_CPs, \"negative pick percentage\": neg_CPs})\n",
    "res_df\n",
    "    "
   ]
  },
  {
   "cell_type": "markdown",
   "metadata": {},
   "source": [
    "#### There does not seem to be a clear relationship between review sentiment and being a critic's pick. Movies with negative sentiment polarity were never a critic's pick except in one case with Stephen Holden. Movies with positive sentiment polarity had a mix between being selected as critic's pick and not being selected. "
   ]
  },
  {
   "cell_type": "markdown",
   "metadata": {
    "slideshow": {
     "slide_type": "slide"
    }
   },
   "source": [
    "### Q3"
   ]
  },
  {
   "cell_type": "code",
   "execution_count": 21,
   "metadata": {
    "code_folding": [],
    "hide_input": true,
    "slideshow": {
     "slide_type": "skip"
    }
   },
   "outputs": [],
   "source": [
    "# # Top 100 revenue movie characteristics\n",
    "\n",
    "# top100_url = tmdb_url + \"/discover/movie\"\n",
    "# top100_movies = []\n",
    "\n",
    "# def handle_resp(resp):\n",
    "#     resp = json.loads(resp.text)\n",
    "#     results = resp[\"results\"]\n",
    "\n",
    "#     for r in results:\n",
    "#         mid = r[\"id\"]\n",
    "#         movie_info = requests.get(tmdb_url + \"/movie/{}\".format(mid), \n",
    "#                                 params={\"api_key\": tmdb_apikey})\n",
    "\n",
    "#         if movie_info.status_code == 200:\n",
    "#             movie_info = json.loads(movie_info.text)\n",
    "#             top100_movies.append({\"budget\": movie_info[\"budget\"], \"genres\": movie_info[\"genres\"], \n",
    "#                                   \"release_date\": movie_info[\"release_date\"],\n",
    "#                                     \"revenue\": movie_info[\"revenue\"], \"title\": movie_info[\"title\"]} )\n",
    "#         else:\n",
    "#             print(json.loads(movie_info.text))\n",
    "#             continue\n",
    "\n",
    "# for i in range(1,6):\n",
    "#     resp = requests.get(top100_url, params={\"api_key\": tmdb_apikey, \"sort_by\": \"revenue.desc\", \"page\": i,\n",
    "#                                            \"primary_release_date.gte\": \"2010-01-01\", \n",
    "#                                             \"primary_release_data.lte\": \"2017-01-01\"})\n",
    "#     if (resp.status_code == 200):\n",
    "#         handle_resp(resp) \n",
    "#     elif resp.status_code == 429:\n",
    "#         time.sleep(13)\n",
    "#         resp = requests.get(top100_url, params={\"api_key\": tmdb_apikey, \"sort_by\": \"revenue.desc\", \"page\": i,\n",
    "#                                            \"primary_release_date.gte\": \"2010-01-01\", \n",
    "#                                             \"primary_release_data.lte\": \"2017-01-01\"})\n",
    "#         handle_resp(resp)\n",
    "#     else:\n",
    "#         print(json.loads(resp.text))\n"
   ]
  },
  {
   "cell_type": "code",
   "execution_count": 22,
   "metadata": {
    "code_folding": [],
    "hide_input": true,
    "slideshow": {
     "slide_type": "skip"
    }
   },
   "outputs": [],
   "source": [
    "# # Create top 100 movies DataFrame\n",
    "# top100_cols = [\"title\", \"budget\", \"release_season\"]\n",
    "# top100_cols.extend(genres)\n",
    "# top100_cols.append(\"revenue\")\n",
    "\n",
    "# df_dict = {}\n",
    "# for key in top100_cols:\n",
    "#     df_dict[key] = []\n",
    "\n",
    "# for g in genres:\n",
    "#     df_dict[g] = [0]*len(top100_movies)\n",
    "    \n",
    "# for ind, movie in enumerate(top100_movies):\n",
    "#     df_dict[\"budget\"].append(movie[\"budget\"])\n",
    "#     df_dict[\"title\"].append(movie[\"title\"])\n",
    "#     df_dict[\"revenue\"].append(movie[\"revenue\"])\n",
    "    \n",
    "#     movie_genres = [x[\"name\"] for x in movie[\"genres\"]]\n",
    "    \n",
    "#     for g in movie_genres:\n",
    "#         df_dict[g][ind] = 1\n",
    "        \n",
    "#     release_month = int(movie[\"release_date\"].split(\"-\")[1])\n",
    "    \n",
    "#     if release_month in [1, 2, 12]:\n",
    "#         df_dict[\"release_season\"] = \"Winter\"\n",
    "#     elif release_month in [3, 4, 5]:\n",
    "#         df_dict[\"release_season\"] = \"Spring\"\n",
    "#     elif release_month in [6, 7, 8]:\n",
    "#         df_dict[\"release_season\"] = \"Summer\"\n",
    "#     else:\n",
    "#         df_dict[\"release_season\"] = \"Fall\"\n",
    "\n",
    "# top100_df = pd.DataFrame.from_dict(df_dict)\n",
    "\n",
    "# # Save top100_df to csv\n",
    "# top100_df.to_csv(path_or_buf=\"top100_df.csv\")"
   ]
  },
  {
   "cell_type": "code",
   "execution_count": 23,
   "metadata": {
    "code_folding": [],
    "hide_input": true,
    "slideshow": {
     "slide_type": "skip"
    }
   },
   "outputs": [],
   "source": [
    "# # Bottom 100 revenue movie characteristics\n",
    "\n",
    "# bottom100_url = tmdb_url + \"/discover/movie\"\n",
    "# bottom100_movies = []\n",
    "\n",
    "# # buffer between top100 movies code running\n",
    "# time.sleep(11)\n",
    "\n",
    "# def handle_resp(resp):\n",
    "#     resp = json.loads(resp.text)\n",
    "#     results = resp[\"results\"]\n",
    "\n",
    "#     for r in results:\n",
    "#         mid = r[\"id\"]\n",
    "#         movie_info = requests.get(tmdb_url + \"/movie/{}\".format(mid), \n",
    "#                                 params={\"api_key\": tmdb_apikey})\n",
    "\n",
    "#         if movie_info.status_code == 200:\n",
    "#             movie_info = json.loads(movie_info.text)\n",
    "#             bottom100_movies.append({\"budget\": movie_info[\"budget\"], \"genres\": movie_info[\"genres\"], \n",
    "#                                   \"release_date\": movie_info[\"release_date\"],\n",
    "#                                     \"revenue\": movie_info[\"revenue\"], \"title\": movie_info[\"title\"]} )\n",
    "#         else:\n",
    "#             print(json.loads(movie_info.text))\n",
    "#             continue \n",
    "\n",
    "# for i in range(10,16):\n",
    "#     resp = requests.get(bottom100_url, params={\"api_key\": tmdb_apikey, \"sort_by\": \"revenue.desc\", \"page\": i,\n",
    "#                                            \"primary_release_date.gte\": \"2010-01-01\", \n",
    "#                                             \"primary_release_data.lte\": \"2017-01-01\"})\n",
    "#     if (resp.status_code == 200):\n",
    "#         handle_resp(resp)\n",
    "#     elif resp.status_code == 429:\n",
    "#         time.sleep(13)\n",
    "#         resp = requests.get(bottom100_url, params={\"api_key\": tmdb_apikey, \"sort_by\": \"revenue.desc\", \"page\": i,\n",
    "#                                            \"primary_release_date.gte\": \"2010-01-01\", \n",
    "#                                             \"primary_release_data.lte\": \"2017-01-01\"})\n",
    "#         handle_resp(resp)\n",
    "#     else:\n",
    "#         json.loads(resp.text)\n",
    "\n"
   ]
  },
  {
   "cell_type": "code",
   "execution_count": 24,
   "metadata": {
    "code_folding": [],
    "hide_input": true,
    "slideshow": {
     "slide_type": "skip"
    }
   },
   "outputs": [],
   "source": [
    "# # Create bottom 100 movies DataFrame\n",
    "# bottom100_cols = [\"title\", \"budget\", \"release_season\"]\n",
    "# bottom100_cols.extend(genres)\n",
    "# bottom100_cols.append(\"revenue\")\n",
    "\n",
    "# df_dict = {}\n",
    "# for key in bottom100_cols:\n",
    "#     df_dict[key] = []\n",
    "\n",
    "# for g in genres:\n",
    "#     df_dict[g] = [0]*len(bottom100_movies)\n",
    "    \n",
    "# for ind, movie in enumerate(bottom100_movies):\n",
    "#     df_dict[\"budget\"].append(movie[\"budget\"])\n",
    "#     df_dict[\"title\"].append(movie[\"title\"])\n",
    "#     df_dict[\"revenue\"].append(movie[\"revenue\"])\n",
    "    \n",
    "#     movie_genres = [x[\"name\"] for x in movie[\"genres\"]]\n",
    "#     for g in movie_genres:\n",
    "#         df_dict[g][ind] = 1\n",
    "        \n",
    "#     release_month = int(movie[\"release_date\"].split(\"-\")[1])\n",
    "    \n",
    "#     if release_month in [1, 2, 12]:\n",
    "#         df_dict[\"release_season\"] = \"Winter\"\n",
    "#     elif release_month in [3, 4, 5]:\n",
    "#         df_dict[\"release_season\"] = \"Spring\"\n",
    "#     elif release_month in [6, 7, 8]:\n",
    "#         df_dict[\"release_season\"] = \"Summer\"\n",
    "#     else:\n",
    "#         df_dict[\"release_season\"] = \"Fall\"\n",
    "\n",
    "# bottom100_df = pd.DataFrame.from_dict(df_dict)\n",
    "\n",
    "# # Save data to file\n",
    "# bottom100_df.to_csv(path_or_buf=\"bottom100_df.csv\")"
   ]
  },
  {
   "cell_type": "code",
   "execution_count": 25,
   "metadata": {
    "code_folding": [],
    "hide_input": true,
    "slideshow": {
     "slide_type": "subslide"
    }
   },
   "outputs": [
    {
     "data": {
      "image/png": "[encoded data removed]",
      "text/plain": [
       "<Figure size 432x288 with 1 Axes>"
      ]
     },
     "metadata": {
      "needs_background": "light"
     },
     "output_type": "display_data"
    },
    {
     "data": {
      "image/png": "[encoded data removed]",
      "text/plain": [
       "<Figure size 432x288 with 1 Axes>"
      ]
     },
     "metadata": {
      "needs_background": "light"
     },
     "output_type": "display_data"
    }
   ],
   "source": [
    "# Load DFs from files\n",
    "top100_df = pd.read_csv(\"https://raw.githubusercontent.com/angadkalra/NYTimes-Movie-Critics/master/top100_df.csv\").drop('Unnamed: 0', axis=1)\n",
    "bottom100_df = pd.read_csv(\"https://raw.githubusercontent.com/angadkalra/NYTimes-Movie-Critics/master/bottom100_df.csv\").drop('Unnamed: 0', axis=1)\n",
    "\n",
    "# Revenue boxplots\n",
    "top100_rev = top100_df[\"revenue\"].values\n",
    "bot100_rev = bottom100_df[\"revenue\"].values\n",
    "\n",
    "plt.boxplot([top100_rev, bot100_rev], labels=[\"top100\", \"bottom100\"])\n",
    "plt.title(\"Movie Revenue Boxplots\")\n",
    "plt.ylabel(\"Revenue in $1 billion\")\n",
    "plt.show()\n",
    "\n",
    "# Budget boxplots\n",
    "top100_budget = top100_df[\"budget\"].values\n",
    "bot100_budget = bottom100_df[\"budget\"].values\n",
    "\n",
    "plt.boxplot([top100_budget, bot100_budget], labels=[\"top100\", \"bottom100\"])\n",
    "plt.title(\"Movie Budget Boxplots\")\n",
    "plt.ylabel(\"Budget in $100 million\")\n",
    "plt.show()\n",
    "\n"
   ]
  },
  {
   "cell_type": "markdown",
   "metadata": {},
   "source": [
    "#### The range of revenues between the top100 and bottom100 movies are vastly different. The top100 movies have most of their revenues close to 1 billion dollars and higher, whereas bottom100 movies don't pass the 500 million dollar mark. However, when comparing the range of budgets, they appear much more similar in value. The top100 movies do have higher budgets on average."
   ]
  },
  {
   "cell_type": "code",
   "execution_count": 26,
   "metadata": {
    "code_folding": [],
    "hide_input": true,
    "slideshow": {
     "slide_type": "slide"
    }
   },
   "outputs": [
    {
     "data": {
      "text/html": [
       "<div>\n",
       "<style scoped>\n",
       "    .dataframe tbody tr th:only-of-type {\n",
       "        vertical-align: middle;\n",
       "    }\n",
       "\n",
       "    .dataframe tbody tr th {\n",
       "        vertical-align: top;\n",
       "    }\n",
       "\n",
       "    .dataframe thead th {\n",
       "        text-align: right;\n",
       "    }\n",
       "</style>\n",
       "<table border=\"1\" class=\"dataframe\">\n",
       "  <thead>\n",
       "    <tr style=\"text-align: right;\">\n",
       "      <th></th>\n",
       "      <th>number of movies</th>\n",
       "      <th>Spring</th>\n",
       "      <th>Summer</th>\n",
       "      <th>Fall</th>\n",
       "      <th>Winter</th>\n",
       "    </tr>\n",
       "  </thead>\n",
       "  <tbody>\n",
       "    <tr>\n",
       "      <th>top100</th>\n",
       "      <td>98</td>\n",
       "      <td>0</td>\n",
       "      <td>98</td>\n",
       "      <td>0</td>\n",
       "      <td>0</td>\n",
       "    </tr>\n",
       "    <tr>\n",
       "      <th>bottom100</th>\n",
       "      <td>119</td>\n",
       "      <td>0</td>\n",
       "      <td>119</td>\n",
       "      <td>0</td>\n",
       "      <td>0</td>\n",
       "    </tr>\n",
       "  </tbody>\n",
       "</table>\n",
       "</div>"
      ],
      "text/plain": [
       "           number of movies  Spring  Summer  Fall  Winter\n",
       "top100                   98       0      98     0       0\n",
       "bottom100               119       0     119     0       0"
      ]
     },
     "execution_count": 26,
     "metadata": {},
     "output_type": "execute_result"
    }
   ],
   "source": [
    "# Release Season Table\n",
    "top100_relseason_counts = top100_df[\"release_season\"].value_counts()\n",
    "bott100_relseason_counts = bottom100_df[\"release_season\"].value_counts()\n",
    "\n",
    "relseason_dict = {\"number of movies\": [top100_df.shape[0], bottom100_df.shape[0]], \n",
    "                  \"Spring\": [sum(top100_df[\"release_season\"] == \"Spring\"), sum(bottom100_df[\"release_season\"] == \"Spring\")], \n",
    "                  \"Summer\": [sum(top100_df[\"release_season\"] == \"Summer\"), sum(bottom100_df[\"release_season\"] == \"Summer\")], \n",
    "                  \"Fall\": [sum(top100_df[\"release_season\"] == \"Fall\"), sum(bottom100_df[\"release_season\"] == \"Fall\")], \n",
    "                  \"Winter\": [sum(top100_df[\"release_season\"] == \"Winter\"), sum(bottom100_df[\"release_season\"] == \"Winter\")]\n",
    "                 }\n",
    "\n",
    "relseason_df = pd.DataFrame(data=relseason_dict, index=[\"top100\", \"bottom100\"])\n",
    "relseason_df"
   ]
  },
  {
   "cell_type": "markdown",
   "metadata": {},
   "source": [
    "#### Movies in both datasets were always released during the summer months: June,  July, and August. This coincides with the well known term \"Summer Blockbuster\". "
   ]
  },
  {
   "cell_type": "code",
   "execution_count": 27,
   "metadata": {
    "code_folding": [],
    "hide_input": true,
    "slideshow": {
     "slide_type": "skip"
    }
   },
   "outputs": [],
   "source": [
    "# Genre Analysis\n",
    "top100_genres = top100_df.iloc[:,3:21]\n",
    "bott100_genres = bottom100_df.iloc[:, 3:21]\n",
    "\n",
    "top100_genres_sum = top100_genres.sum(axis=0)\n",
    "top100_genres_sum = top100_genres_sum.sort_values(ascending=False)\n",
    "\n",
    "bott100_genres_sum = bott100_genres.sum(axis=0)\n",
    "bott100_genres_sum = bott100_genres_sum.sort_values(ascending=False)\n"
   ]
  },
  {
   "cell_type": "code",
   "execution_count": 28,
   "metadata": {
    "hide_input": true,
    "slideshow": {
     "slide_type": "fragment"
    }
   },
   "outputs": [
    {
     "data": {
      "text/plain": [
       "<matplotlib.axes._subplots.AxesSubplot at 0x7f1079de29e8>"
      ]
     },
     "execution_count": 28,
     "metadata": {},
     "output_type": "execute_result"
    },
    {
     "data": {
      "image/png": "[encoded data removed]",
      "text/plain": [
       "<Figure size 432x288 with 1 Axes>"
      ]
     },
     "metadata": {
      "needs_background": "light"
     },
     "output_type": "display_data"
    },
    {
     "data": {
      "image/png": "[encoded data removed]",
      "text/plain": [
       "<Figure size 432x288 with 1 Axes>"
      ]
     },
     "metadata": {
      "needs_background": "light"
     },
     "output_type": "display_data"
    }
   ],
   "source": [
    "plt.figure(1)\n",
    "plt.title(\"Top100 Movie Genre Frequency\")\n",
    "plt.ylabel(\"Frequency\")\n",
    "plt.xlabel(\"Genres\")\n",
    "top100_genres_sum[:10].plot.bar()\n",
    "\n",
    "\n",
    "plt.figure(2)\n",
    "plt.title(\"Bottom100 Movie Genre Frequency\")\n",
    "plt.ylabel(\"Frequency\")\n",
    "plt.xlabel(\"Genres\")\n",
    "bott100_genres_sum[:10].plot.bar()"
   ]
  },
  {
   "cell_type": "markdown",
   "metadata": {},
   "source": [
    "#### Top100 movies have more movies in Adventure, Action, Sci-Fi, Fantasy, and Family genres. Bottom100 movies have more Comedy, Thriller, and Drama genres."
   ]
  },
  {
   "cell_type": "markdown",
   "metadata": {
    "slideshow": {
     "slide_type": "slide"
    }
   },
   "source": [
    "## Conclusion"
   ]
  },
  {
   "cell_type": "markdown",
   "metadata": {
    "slideshow": {
     "slide_type": "subslide"
    }
   },
   "source": [
    "### **Q1:**  \n",
    "**Result Summary:**   \n",
    "All three critics had accuracies well below 50%, with the highest being 35% and lowest being 4%. Thus, NYT movie critic's are not accurate at prediciting box office hits. \n",
    "\n",
    "**Limitations:**  \n",
    "* The API from which revenue was retrieved had a limit on the number of requests per 10 seconds. This limited data collection.\n",
    "* The box office hit benchmark was arbitrary and chosen by me.\n",
    "\n",
    "**Future Considerations:**  \n",
    "Using more sophisticated API requests, I can retrieve more movie reviews per critic to get a better accuracy measure. In addition, I can analyze historical box office data to get a more accurate threshold of a box office hit. "
   ]
  },
  {
   "cell_type": "markdown",
   "metadata": {
    "slideshow": {
     "slide_type": "slide"
    }
   },
   "source": [
    "### **Q2:**  \n",
    "**Result Summary:**   \n",
    "Negative review sentiment did not result in being a critic's pick in almost all instances, but positive review sentiment did not clearly indicate being a critic's pick for all three movie reviewers.  \n",
    "\n",
    "**Limitations:**\n",
    "* Sentiment Analysis package used was simple and for beginners.\n",
    "    \n",
    "**Future Considerations:**  \n",
    "Use different sentiment analysis packages and compare results. In addition, get more reviews for each critic to obtain a more accurate measure. \n"
   ]
  },
  {
   "cell_type": "markdown",
   "metadata": {
    "slideshow": {
     "slide_type": "slide"
    }
   },
   "source": [
    "### **Q3:**   \n",
    "\n",
    "**Result Summary:**   \n",
    "Movies with higher budgets, released in the summer months, and are one of Action, Adventure, Sci-Fi, Fantasy, or Family genres are associated with higher revenue.  \n",
    "\n",
    "**Limitations:**\n",
    "* The API from which revenue was retrieved had a limit on the number of requests per 10 seconds. This limited data collection.\n",
    "* Amount of movie details from free APIs.\n",
    "\n",
    "**Future Considerations:**  \n",
    "Using more sophisticated API requests, retrieve more movies for both datasets. In addition, include other influential movie characteristics such as director, main actors, movie language, part of sequel/trilogy/series, production companies etc.  "
   ]
  }
 ],
 "metadata": {
  "kernelspec": {
   "display_name": "Python 3",
   "language": "python",
   "name": "python3"
  },
  "language_info": {
   "codemirror_mode": {
    "name": "ipython",
    "version": 3
   },
   "file_extension": ".py",
   "mimetype": "text/x-python",
   "name": "python",
   "nbconvert_exporter": "python",
   "pygments_lexer": "ipython3",
   "version": "3.6.6"
  },
  "varInspector": {
   "cols": {
    "lenName": 16,
    "lenType": 16,
    "lenVar": 40
   },
   "kernels_config": {
    "python": {
     "delete_cmd_postfix": "",
     "delete_cmd_prefix": "del ",
     "library": "var_list.py",
     "varRefreshCmd": "print(var_dic_list())"
    },
    "r": {
     "delete_cmd_postfix": ") ",
     "delete_cmd_prefix": "rm(",
     "library": "var_list.r",
     "varRefreshCmd": "cat(var_dic_list()) "
    }
   },
   "types_to_exclude": [
    "module",
    "function",
    "builtin_function_or_method",
    "instance",
    "_Feature"
   ],
   "window_display": false
  }
 },
 "nbformat": 4,
 "nbformat_minor": 2
}
