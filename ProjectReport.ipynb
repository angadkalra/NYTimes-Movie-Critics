{
 "cells": [
  {
   "cell_type": "markdown",
   "metadata": {},
   "source": [
    "# Angad Kalra\n",
    "# SN: 1005134999\n"
   ]
  },
  {
   "cell_type": "markdown",
   "metadata": {},
   "source": [
    "# Primary Questions\n",
    "* Q1: For all active fulltime NYT movie critics, how often do they correctly predict box office hits? \n",
    "* Q2: Does movie review sentiment align with whether it was a critic's pick or not?\n",
    "* Q3: What characterisitcs are common among movies that do really well? Among movies that do poorly? "
   ]
  },
  {
   "cell_type": "markdown",
   "metadata": {},
   "source": [
    "# TO DO:\n",
    "* Get all data into dataframes\n",
    "* Go through each Q and complete\n",
    "* Write Report"
   ]
  },
  {
   "cell_type": "markdown",
   "metadata": {},
   "source": [
    "# Data Collection"
   ]
  },
  {
   "cell_type": "code",
   "execution_count": 82,
   "metadata": {},
   "outputs": [],
   "source": [
    "import numpy as np\n",
    "import pandas as pd\n",
    "import requests, json\n",
    "\n",
    "# Sample data collection code\n",
    "\n",
    "# API urls & keys\n",
    "nyt_url = \"http://api.nytimes.com/svc/movies/v2\"\n",
    "nyt_apikey = \"72aaefb1f009451e986a0e446468f649\"\n",
    "\n",
    "tmdb_url = \"https://api.themoviedb.org/3\"\n",
    "tmdb_apikey = \"49200255c3dc5d6af15e04656ea5f7c4\"\n",
    "\n",
    "# List of critics\n",
    "url = nyt_url + \"/critics/full-time.json\"\n",
    "critics_res = requests.get(url, params={\"api-key\": nyt_apikey})\n",
    "critics_res = json.loads(critics_res.text)\n",
    "critics = [x[\"display_name\"] for x in critics_res[\"results\"]]"
   ]
  },
  {
   "cell_type": "code",
   "execution_count": 100,
   "metadata": {},
   "outputs": [
    {
     "name": "stdout",
     "output_type": "stream",
     "text": [
      "0\n",
      "0\n",
      "79275328\n",
      "2525738\n",
      "64414761\n",
      "445435700\n",
      "282382\n",
      "0\n",
      "119520023\n",
      "2341534\n",
      "3162153\n",
      "0\n",
      "65046687\n",
      "285930\n",
      "1818075\n",
      "10367161\n",
      "0\n",
      "0\n",
      "140705322\n",
      "0\n",
      "501912068\n",
      "13498185\n",
      "6046104\n",
      "1041955\n",
      "162589\n",
      "868429911\n",
      "0\n",
      "1163056\n",
      "64207623\n",
      "147988192\n",
      "0\n",
      "0\n",
      "1346739107\n",
      "56996304\n",
      "0\n",
      "0\n",
      "6700\n",
      "0\n",
      "2000000\n",
      "0\n",
      "4611\n",
      "0\n"
     ]
    }
   ],
   "source": [
    "# Table of movies + financial outcome\n",
    "url = nyt_url + \"/reviews/search.json\"\n",
    "critics_list = []\n",
    "movie_titles = []\n",
    "box_office_total = []\n",
    "box_office_hit = []\n",
    "\n",
    "# Get critic pick movies for each critic + info and create dataframe.\n",
    "for c in critics:\n",
    "    resp = requests.get(url, params={\"api-key\": nyt_apikey, \"critics-pick\": \"Y\", \"reviewer\": c})\n",
    "    if resp.status_code == 200:\n",
    "        resp = json.loads(resp.text)\n",
    "    else:\n",
    "        continue\n",
    "        \n",
    "    results = resp[\"results\"]\n",
    "    \n",
    "    for r in results:\n",
    "        tmdb_resp = requests.get(tmdb_url + \"/search/movie\", \n",
    "                            params={\"api_key\": tmdb_apikey, \"query\": r[\"display_title\"], \n",
    "                                    \"primary_release_year\": int(r[\"publication_date\"][0:4]) })\n",
    "        \n",
    "        if tmdb_resp.status_code == 200:\n",
    "            tmdb_resp = json.loads(tmdb_resp.text)\n",
    "\n",
    "            if (tmdb_resp[\"total_results\"] > 0):\n",
    "                mid = tmdb_resp[\"results\"][0][\"id\"]\n",
    "                movie_info = requests.get(tmdb_url + \"/movie/{}\".format(mid), params={\"api_key\": tmdb_apikey})\n",
    "\n",
    "                if movie_info.status_code == 200:\n",
    "                    movie_info = json.loads(movie_info.text)\n",
    "                    \n",
    "                    critics_list.append(c)\n",
    "                    movie_titles.append(movie_info[\"title\"])\n",
    "                    box_office_total.append(movie_info[\"revenue\"])\n",
    "                    box_office_hit.append(1) if movie_info[\"revenue\"] >= 100000000 else box_office_hit.append(0)\n"
   ]
  },
  {
   "cell_type": "code",
   "execution_count": 104,
   "metadata": {},
   "outputs": [],
   "source": [
    "df_dict = {\"critic\": pd.Series(critics_list, dtype=str), \"movie_title\": pd.Series(movie_titles, dtype=str), \n",
    "                        \"box_office_total\": pd.Series(box_office_total, dtype=np.int64), \"box_office_hit\": pd.Series(box_office_hit, dtype=np.bool)}\n",
    "box_office_movies = pd.DataFrame(df_dict)"
   ]
  },
  {
   "cell_type": "code",
   "execution_count": 105,
   "metadata": {},
   "outputs": [
    {
     "data": {
      "text/plain": [
       "<bound method NDFrame.head of             critic                    movie_title  box_office_total  \\\n",
       "0      A. O. Scott                Minding the Gap                 0   \n",
       "1      A. O. Scott                   Custody Road                 0   \n",
       "2      A. O. Scott                     Hereditary          79275328   \n",
       "3      A. O. Scott                 First Reformed           2525738   \n",
       "4      A. O. Scott                         Fences          64414761   \n",
       "5      A. O. Scott                     La La Land         445435700   \n",
       "6      A. O. Scott                 Things to Come            282382   \n",
       "7      A. O. Scott             Two Trains Runnin'                 0   \n",
       "8      A. O. Scott                         Allied         119520023   \n",
       "9      A. O. Scott                           Elle           2341534   \n",
       "10     A. O. Scott             The Eagle Huntress           3162153   \n",
       "11     A. O. Scott                    Fire at Sea                 0   \n",
       "12     A. O. Scott                      Moonlight          65046687   \n",
       "13     A. O. Scott                       Aquarius            285930   \n",
       "14     A. O. Scott                 American Honey           1818075   \n",
       "15     A. O. Scott                 Queen of Katwe          10367161   \n",
       "16     A. O. Scott                   Cameraperson                 0   \n",
       "17     A. O. Scott            Morris from America                 0   \n",
       "18     A. O. Scott                  Sausage Party         140705322   \n",
       "19  Manohla Dargis              Support the Girls                 0   \n",
       "20  Manohla Dargis  Mission: Impossible - Fallout         501912068   \n",
       "21  Manohla Dargis                   Eighth Grade          13498185   \n",
       "22  Manohla Dargis                 Leave No Trace           6046104   \n",
       "23  Manohla Dargis      Three Identical Strangers           1041955   \n",
       "24  Manohla Dargis                       The King            162589   \n",
       "25  Manohla Dargis                  Incredibles 2         868429911   \n",
       "26  Manohla Dargis     Bad Times at the El Royale                 0   \n",
       "27  Manohla Dargis                   Lean on Pete           1163056   \n",
       "28  Manohla Dargis                   Isle of Dogs          64207623   \n",
       "29  Manohla Dargis                    Red Sparrow         147988192   \n",
       "30  Manohla Dargis                       Oh Lucy!                 0   \n",
       "31  Manohla Dargis                   Golden Exits                 0   \n",
       "32  Manohla Dargis                  Black Panther        1346739107   \n",
       "33  Manohla Dargis     All the Money in the World          56996304   \n",
       "34  Stephen Holden                   Donald Cried                 0   \n",
       "35  Stephen Holden              Girl From Nowhere                 0   \n",
       "36  Stephen Holden                       Lovesong              6700   \n",
       "37  Stephen Holden                   Gimme Danger                 0   \n",
       "38  Stephen Holden                       Being 17           2000000   \n",
       "39  Stephen Holden      Chronicle of Chronic Pain                 0   \n",
       "40  Stephen Holden                   Miss Stevens              4611   \n",
       "41  Stephen Holden                          Kicks                 0   \n",
       "\n",
       "    box_office_hit  \n",
       "0            False  \n",
       "1            False  \n",
       "2            False  \n",
       "3            False  \n",
       "4            False  \n",
       "5             True  \n",
       "6            False  \n",
       "7            False  \n",
       "8             True  \n",
       "9            False  \n",
       "10           False  \n",
       "11           False  \n",
       "12           False  \n",
       "13           False  \n",
       "14           False  \n",
       "15           False  \n",
       "16           False  \n",
       "17           False  \n",
       "18            True  \n",
       "19           False  \n",
       "20            True  \n",
       "21           False  \n",
       "22           False  \n",
       "23           False  \n",
       "24           False  \n",
       "25            True  \n",
       "26           False  \n",
       "27           False  \n",
       "28           False  \n",
       "29            True  \n",
       "30           False  \n",
       "31           False  \n",
       "32            True  \n",
       "33           False  \n",
       "34           False  \n",
       "35           False  \n",
       "36           False  \n",
       "37           False  \n",
       "38           False  \n",
       "39           False  \n",
       "40           False  \n",
       "41           False  >"
      ]
     },
     "execution_count": 105,
     "metadata": {},
     "output_type": "execute_result"
    }
   ],
   "source": [
    "box_office_movies.head"
   ]
  },
  {
   "cell_type": "code",
   "execution_count": null,
   "metadata": {},
   "outputs": [],
   "source": [
    "# Table of movies + review sentiment\n",
    "\n",
    "\n",
    "# Table of movies + characteristics + revenue"
   ]
  },
  {
   "cell_type": "markdown",
   "metadata": {},
   "source": [
    "* I'm going to create a table of movies for each critic and also get the info on how much money the movies made in theatres. I will use the NYT and Box Office Mojo APIs for this info.\n",
    "* For question #2, I'm going to scrape the NYT movie reviews from the url provided in the API response and create a dataset that has the movie info, the review, sentiment analysis, and whether it was a critic's pick. I will use NYT API for this info.\n",
    "* For question #3, I'll create two datasets: one for movies that did well and one for movies that performed poorly. I will use NYT, OMDb, and Box Office Mojo APIs for this."
   ]
  },
  {
   "cell_type": "markdown",
   "metadata": {},
   "source": [
    "# EDA"
   ]
  },
  {
   "cell_type": "markdown",
   "metadata": {},
   "source": [
    "* Q1: I'm going to create a list of picks for each critic and see how many of their picks performed well in box office. I will define a \"box office hit\" as a movie that made more than 100 million dollars domestic. \n",
    "* Q2: After scraping the reviews off the web, I will run sentiment analysis on the reviews using popular Python packages (i.e TextBlob) and classify them. I will then compare the results to whether or not the movie was a critic's pick. Plotting the data seems like a good idea right now because it will allow me to see if their is a somewhat sigmoid relationship between the two variables. My plot will be 2D, with the x-axis being the different sentiment results and the y-axis being binary (+1 for critic pick, 0 otherwise).\n",
    "* Q3: For each table (movies that did well, movies that did poorly), I will perform something similar to a set intersection among their characteristics and see what they have in common. I will also remove any characteristics that appear in both tables. "
   ]
  },
  {
   "cell_type": "markdown",
   "metadata": {},
   "source": [
    "# Modelling"
   ]
  },
  {
   "cell_type": "markdown",
   "metadata": {},
   "source": [
    "* Q1: Don't think I need any formal model here. Just going to look at accuracy for each critic.\n",
    "\n",
    "* Q2: Can't think of a formal model for this. I think I will just plot sentiment vs critic pick and see whether it looks like a sigmoid function.\n",
    "\n",
    "* Q3: I'm thinking of using PCA to find which \"features\" of movies are the most influential when it comes to determining revenue. "
   ]
  },
  {
   "cell_type": "code",
   "execution_count": null,
   "metadata": {},
   "outputs": [],
   "source": []
  }
 ],
 "metadata": {
  "kernelspec": {
   "display_name": "Python 3",
   "language": "python",
   "name": "python3"
  },
  "language_info": {
   "codemirror_mode": {
    "name": "ipython",
    "version": 3
   },
   "file_extension": ".py",
   "mimetype": "text/x-python",
   "name": "python",
   "nbconvert_exporter": "python",
   "pygments_lexer": "ipython3",
   "version": "3.6.6"
  },
  "varInspector": {
   "cols": {
    "lenName": 16,
    "lenType": 16,
    "lenVar": 40
   },
   "kernels_config": {
    "python": {
     "delete_cmd_postfix": "",
     "delete_cmd_prefix": "del ",
     "library": "var_list.py",
     "varRefreshCmd": "print(var_dic_list())"
    },
    "r": {
     "delete_cmd_postfix": ") ",
     "delete_cmd_prefix": "rm(",
     "library": "var_list.r",
     "varRefreshCmd": "cat(var_dic_list()) "
    }
   },
   "types_to_exclude": [
    "module",
    "function",
    "builtin_function_or_method",
    "instance",
    "_Feature"
   ],
   "window_display": false
  }
 },
 "nbformat": 4,
 "nbformat_minor": 2
}
