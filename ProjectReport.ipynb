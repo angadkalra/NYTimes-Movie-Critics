{
 "cells": [
  {
   "cell_type": "markdown",
   "metadata": {},
   "source": [
    "# Angad Kalra\n",
    "# SN: 1005134999\n"
   ]
  },
  {
   "cell_type": "markdown",
   "metadata": {},
   "source": [
    "# Primary Questions\n",
    "* Q1: For all active fulltime NYT movie critics, how often do they correctly predict box office hits? \n",
    "* Q2: Does movie review sentiment align with whether it was a critic's pick or not?\n",
    "* Q3: What characterisitcs are common among movies that do really well? Among movies that do poorly? "
   ]
  },
  {
   "cell_type": "markdown",
   "metadata": {},
   "source": [
    "# TO DO:\n",
    "* Get all data into dataframes\n",
    "* Go through each Q and complete\n",
    "* Write Report"
   ]
  },
  {
   "cell_type": "markdown",
   "metadata": {},
   "source": [
    "# Data Collection"
   ]
  },
  {
   "cell_type": "code",
   "execution_count": 32,
   "metadata": {},
   "outputs": [],
   "source": [
    "import numpy as np\n",
    "import pandas as pd\n",
    "import requests, json, os, sys\n",
    "\n",
    "# Sample data collection code\n",
    "\n",
    "# API urls & keys\n",
    "nyt_url = \"http://api.nytimes.com/svc/movies/v2\"\n",
    "nyt_apikey = \"72aaefb1f009451e986a0e446468f649\"\n",
    "\n",
    "tmdb_url = \"https://api.themoviedb.org/3\"\n",
    "tmdb_apikey = \"49200255c3dc5d6af15e04656ea5f7c4\"\n",
    "\n",
    "# List of critics\n",
    "url = nyt_url + \"/critics/full-time.json\"\n",
    "critics_res = requests.get(url, params={\"api-key\": nyt_apikey})\n",
    "if critics_res.status_code == 200:\n",
    "    critics_res = json.loads(critics_res.text)\n",
    "    critics = [x[\"display_name\"] for x in critics_res[\"results\"]]\n",
    "else:\n",
    "    print(json.loads(critics_res.text))\n",
    "\n",
    "# List of genres\n",
    "genres_url = tmdb_url + \"/genre/movie/list\"\n",
    "genres_resp = requests.get(genres_url, params={\"api_key\": tmdb_apikey})\n",
    "if genres_resp.status_code == 200:\n",
    "    genres = json.loads(genres_resp.text)\n",
    "    genres = [x[\"name\"] for x in genres[\"genres\"]]\n",
    "else:\n",
    "    print(json.loads(genres_resp.text))"
   ]
  },
  {
   "cell_type": "code",
   "execution_count": null,
   "metadata": {},
   "outputs": [],
   "source": [
    "# Table of movies + financial outcome\n",
    "url = nyt_url + \"/reviews/search.json\"\n",
    "critics_list = []\n",
    "movie_titles = []\n",
    "box_office_total = []\n",
    "box_office_hit = []\n",
    "\n",
    "# Get critic pick movies for each critic + info and create dataframe.\n",
    "for c in critics:\n",
    "    resp = requests.get(url, params={\"api-key\": nyt_apikey, \"critics-pick\": \"Y\", \"reviewer\": c})\n",
    "    if resp.status_code == 200:\n",
    "        resp = json.loads(resp.text)\n",
    "    else:\n",
    "        continue\n",
    "        \n",
    "    results = resp[\"results\"]\n",
    "    \n",
    "    for r in results:\n",
    "        tmdb_resp = requests.get(tmdb_url + \"/search/movie\", \n",
    "                            params={\"api_key\": tmdb_apikey, \"query\": r[\"display_title\"], \n",
    "                                    \"primary_release_year\": int(r[\"publication_date\"][0:4]) })\n",
    "        \n",
    "        if tmdb_resp.status_code == 200:\n",
    "            tmdb_resp = json.loads(tmdb_resp.text)\n",
    "\n",
    "            if (tmdb_resp[\"total_results\"] > 0):\n",
    "                mid = tmdb_resp[\"results\"][0][\"id\"]\n",
    "                movie_info = requests.get(tmdb_url + \"/movie/{}\".format(mid), params={\"api_key\": tmdb_apikey})\n",
    "\n",
    "                if movie_info.status_code == 200:\n",
    "                    movie_info = json.loads(movie_info.text)\n",
    "                    \n",
    "                    if (movie_info[\"revenue\"] > 0):\n",
    "                        critics_list.append(c)\n",
    "                        movie_titles.append(movie_info[\"title\"])\n",
    "                        box_office_total.append(movie_info[\"revenue\"])\n",
    "                        box_office_hit.append(1) if movie_info[\"revenue\"] >= 100000000 else box_office_hit.append(0)\n"
   ]
  },
  {
   "cell_type": "code",
   "execution_count": null,
   "metadata": {},
   "outputs": [],
   "source": [
    "# Create DataFrame from critics, movies, box office revenue. \n",
    "df_dict = {\"critic\": pd.Series(critics_list, dtype=str), \"movie_title\": pd.Series(movie_titles, dtype=str), \n",
    "                        \"box_office_total\": pd.Series(box_office_total, dtype=np.int64), \"box_office_hit\": pd.Series(box_office_hit, dtype=np.bool)}\n",
    "box_office_movies = pd.DataFrame(df_dict)"
   ]
  },
  {
   "cell_type": "code",
   "execution_count": 138,
   "metadata": {
    "scrolled": false
   },
   "outputs": [],
   "source": [
    "# Table of movies + review sentiment\n",
    "from bs4 import BeautifulSoup\n",
    "from textblob import TextBlob\n",
    "\n",
    "url = nyt_url + \"/reviews/search.json\"\n",
    "movie_titles = []\n",
    "review_sentiment = []\n",
    "critic_pick = []\n",
    "\n",
    "for c in critics:\n",
    "    resp = requests.get(url, params={\"api-key\": nyt_apikey, \"reviewer\": c})\n",
    "    if resp.status_code == 200:\n",
    "        resp = json.loads(resp.text)\n",
    "    else:\n",
    "        continue\n",
    "        \n",
    "    results = resp[\"results\"]\n",
    "    \n",
    "    # For each review by critic, get the review using url\n",
    "    for r in results:\n",
    "        review_url = r[\"link\"][\"url\"]\n",
    "        resp = requests.get(review_url)\n",
    "        \n",
    "        if resp.status_code == 200:\n",
    "            resp = resp.text\n",
    "            soup = BeautifulSoup(resp, 'html.parser')\n",
    "            article = soup.find('section', attrs={'name': \"articleBody\"})\n",
    "            paragraphs = article.find_all('p', class_=\"css-1xl4flh e2kc3sl0\")\n",
    "            \n",
    "            if (len(paragraphs) > 0):\n",
    "                review = []\n",
    "                \n",
    "                for p in paragraphs:\n",
    "                    review.append(p.text)\n",
    "                \n",
    "                review = \"\".join(review)\n",
    "                review = TextBlob(review)\n",
    "                \n",
    "                if review.sentiment.polarity > 0.10:\n",
    "                    review_sentiment.append(\"positive\")\n",
    "                elif review.sentiment.polarity >= -0.10:\n",
    "                    review_sentiment.append(\"neutral\")\n",
    "                else:\n",
    "                    review_sentiment.append(\"negative\")\n",
    "                \n",
    "                movie_titles.append(r[\"display_title\"])\n",
    "                critic_pick.append(r[\"critics_pick\"])"
   ]
  },
  {
   "cell_type": "code",
   "execution_count": 139,
   "metadata": {},
   "outputs": [],
   "source": [
    "# Create DataFrame from movies, review sentiment and critic's pick. \n",
    "df_dict = {\"movie_title\": pd.Series(movie_titles, dtype=str), \n",
    "               \"review_sentiment\": pd.Series(review_sentiment, dtype=str), \n",
    "                   \"critic_pick\": pd.Series(critic_pick, dtype=np.bool)}\n",
    "movie_review_sentiment = pd.DataFrame(df_dict)"
   ]
  },
  {
   "cell_type": "code",
   "execution_count": 29,
   "metadata": {},
   "outputs": [
    {
     "name": "stdout",
     "output_type": "stream",
     "text": [
      "movie request with id 381890 didn't work\n",
      "movie request with id 246655 didn't work\n",
      "movie request with id 283366 didn't work\n",
      "movie request with id 402900 didn't work\n"
     ]
    }
   ],
   "source": [
    "# Top 100 revenue movie characteristics\n",
    "import time\n",
    "\n",
    "top100_url = tmdb_url + \"/discover/movie\"\n",
    "top100_movies = []\n",
    "\n",
    "for i in range(1,3):\n",
    "    resp = requests.get(top100_url, params={\"api_key\": tmdb_apikey, \"sort_by\": \"revenue.desc\", \"page\": i,\n",
    "                                           \"primary_release_date.gte\": \"2016-01-01\"})\n",
    "    if (resp.status_code == 200):\n",
    "        resp = json.loads(resp.text)\n",
    "        results = resp[\"results\"]\n",
    "        \n",
    "        for r in results:\n",
    "            mid = r[\"id\"]\n",
    "            movie_info = requests.get(tmdb_url + \"/movie/{}\".format(mid), \n",
    "                                    params={\"api_key\": tmdb_apikey})\n",
    "            \n",
    "            if movie_info.status_code == 200:\n",
    "                movie_info = json.loads(movie_info.text)\n",
    "                top100_movies.append({\"budget\": movie_info[\"budget\"], \"genres\": movie_info[\"genres\"], \n",
    "                                      \"release_date\": movie_info[\"release_date\"],\n",
    "                                        \"revenue\": movie_info[\"revenue\"], \"title\": movie_info[\"title\"]} )\n",
    "            else:\n",
    "                print(\"movie request with id {} didn't work\".format(mid))\n",
    "                continue \n",
    "    else:\n",
    "        print(json.loads(resp.text))\n",
    "\n",
    "time.sleep(15)\n",
    "\n",
    "for i in range(3,5):\n",
    "    resp = requests.get(top100_url, params={\"api_key\": tmdb_apikey, \"sort_by\": \"revenue.desc\", \"page\": i,\n",
    "                                           \"primary_release_date.gte\": \"2016-01-01\"})\n",
    "    if (resp.status_code == 200):\n",
    "        resp = json.loads(resp.text)\n",
    "        results = resp[\"results\"]\n",
    "        \n",
    "        for r in results:\n",
    "            mid = r[\"id\"]\n",
    "            movie_info = requests.get(tmdb_url + \"/movie/{}\".format(mid), \n",
    "                                    params={\"api_key\": tmdb_apikey})\n",
    "            \n",
    "            if movie_info.status_code == 200:\n",
    "                movie_info = json.loads(movie_info.text)\n",
    "                top100_movies.append({\"budget\": movie_info[\"budget\"], \"genres\": movie_info[\"genres\"], \n",
    "                                      \"release_date\": movie_info[\"release_date\"],\n",
    "                                        \"revenue\": movie_info[\"revenue\"], \"title\": movie_info[\"title\"]} )\n",
    "            else:\n",
    "                print(\"movie request with id {} didn't work\".format(mid))\n",
    "                continue \n",
    "    else:\n",
    "        print(json.loads(resp.text))\n",
    "\n",
    "time.sleep(15)\n",
    "\n",
    "resp = requests.get(top100_url, params={\"api_key\": tmdb_apikey, \"sort_by\": \"revenue.desc\", \"page\": 5,\n",
    "                                           \"primary_release_date.gte\": \"2016-01-01\"})\n",
    "if (resp.status_code == 200):\n",
    "    resp = json.loads(resp.text)\n",
    "    results = resp[\"results\"]\n",
    "\n",
    "    for r in results:\n",
    "        mid = r[\"id\"]\n",
    "        movie_info = requests.get(tmdb_url + \"/movie/{}\".format(mid), \n",
    "                                params={\"api_key\": tmdb_apikey})\n",
    "\n",
    "        if movie_info.status_code == 200:\n",
    "            movie_info = json.loads(movie_info.text)\n",
    "            top100_movies.append({\"budget\": movie_info[\"budget\"], \"genres\": movie_info[\"genres\"], \n",
    "                                  \"release_date\": movie_info[\"release_date\"],\n",
    "                                    \"revenue\": movie_info[\"revenue\"], \"title\": movie_info[\"title\"]} )\n",
    "        else:\n",
    "            print(\"movie request with id {} didn't work\".format(mid))\n",
    "            continue \n",
    "else:\n",
    "    print(json.loads(resp.text))\n"
   ]
  },
  {
   "cell_type": "code",
   "execution_count": 31,
   "metadata": {},
   "outputs": [
    {
     "data": {
      "text/plain": [
       "{'budget': 105000000,\n",
       " 'genres': [{'id': 12, 'name': 'Adventure'},\n",
       "  {'id': 16, 'name': 'Animation'},\n",
       "  {'id': 10751, 'name': 'Family'},\n",
       "  {'id': 35, 'name': 'Comedy'}],\n",
       " 'release_date': '2016-06-23',\n",
       " 'revenue': 408579038,\n",
       " 'title': 'Ice Age: Collision Course'}"
      ]
     },
     "execution_count": 31,
     "metadata": {},
     "output_type": "execute_result"
    }
   ],
   "source": [
    "top100_movies[50]"
   ]
  },
  {
   "cell_type": "code",
   "execution_count": 24,
   "metadata": {},
   "outputs": [],
   "source": [
    "# Bottom 100 revenue movie characteristics\n",
    "import time\n",
    "\n",
    "bottom100_url = tmdb_url + \"/discover/movie\"\n",
    "bottom100_movies = []\n",
    "\n",
    "for i in range(1,3):\n",
    "    resp = requests.get(bottom100_url, params={\"api_key\": tmdb_apikey, \"sort_by\": \"revenue.asc\", \"page\": i,\n",
    "                                           \"primary_release_date.gte\": \"2016-01-01\"})\n",
    "    if (resp.status_code == 200):\n",
    "        resp = json.loads(resp.text)\n",
    "        results = resp[\"results\"]\n",
    "        \n",
    "        for r in results:\n",
    "            mid = r[\"id\"]\n",
    "            movie_info = requests.get(tmdb_url + \"/movie/{}\".format(mid), \n",
    "                                    params={\"api_key\": tmdb_apikey})\n",
    "            \n",
    "            if movie_info.status_code == 200:\n",
    "                movie_info = json.loads(movie_info.text)\n",
    "                bottom100_movies.append({\"budget\": movie_info[\"budget\"], \"genres\": movie_info[\"genres\"], \n",
    "                                      \"release_date\": movie_info[\"release_date\"],\n",
    "                                        \"revenue\": movie_info[\"revenue\"], \"title\": movie_info[\"title\"]} )\n",
    "            else:\n",
    "                print(\"movie request with id {} didn't work\".format(mid))\n",
    "                continue \n",
    "    else:\n",
    "        print(json.loads(resp.text))\n",
    "\n",
    "time.sleep(15)\n",
    "\n",
    "for i in range(3,5):\n",
    "    resp = requests.get(bottom100_url, params={\"api_key\": tmdb_apikey, \"sort_by\": \"revenue.asc\", \"page\": i,\n",
    "                                           \"primary_release_date.gte\": \"2016-01-01\"})\n",
    "    if (resp.status_code == 200):\n",
    "        resp = json.loads(resp.text)\n",
    "        results = resp[\"results\"]\n",
    "        \n",
    "        for r in results:\n",
    "            mid = r[\"id\"]\n",
    "            movie_info = requests.get(tmdb_url + \"/movie/{}\".format(mid), \n",
    "                                    params={\"api_key\": tmdb_apikey})\n",
    "            \n",
    "            if movie_info.status_code == 200:\n",
    "                movie_info = json.loads(movie_info.text)\n",
    "                bottom100_movies.append({\"budget\": movie_info[\"budget\"], \"genres\": movie_info[\"genres\"], \n",
    "                                      \"release_date\": movie_info[\"release_date\"],\n",
    "                                        \"revenue\": movie_info[\"revenue\"], \"title\": movie_info[\"title\"]} )\n",
    "            else:\n",
    "                print(\"movie request with id {} didn't work\".format(mid))\n",
    "                continue \n",
    "    else:\n",
    "        print(json.loads(resp.text))\n",
    "\n",
    "time.sleep(15)\n",
    "\n",
    "resp = requests.get(bottom100_url, params={\"api_key\": tmdb_apikey, \"sort_by\": \"revenue.asc\", \"page\": 5,\n",
    "                                           \"primary_release_date.gte\": \"2016-01-01\"})\n",
    "if (resp.status_code == 200):\n",
    "    resp = json.loads(resp.text)\n",
    "    results = resp[\"results\"]\n",
    "\n",
    "    for r in results:\n",
    "        mid = r[\"id\"]\n",
    "        movie_info = requests.get(tmdb_url + \"/movie/{}\".format(mid), \n",
    "                                params={\"api_key\": tmdb_apikey})\n",
    "\n",
    "        if movie_info.status_code == 200:\n",
    "            movie_info = json.loads(movie_info.text)\n",
    "            bottom100_movies.append({\"budget\": movie_info[\"budget\"], \"genres\": movie_info[\"genres\"], \n",
    "                                  \"release_date\": movie_info[\"release_date\"],\n",
    "                                    \"revenue\": movie_info[\"revenue\"], \"title\": movie_info[\"title\"]} )\n",
    "        else:\n",
    "            print(\"movie request with id {} didn't work\".format(mid))\n",
    "            continue \n",
    "else:\n",
    "    print(json.loads(resp.text))\n"
   ]
  },
  {
   "cell_type": "code",
   "execution_count": 28,
   "metadata": {},
   "outputs": [
    {
     "data": {
      "text/plain": [
       "{'budget': 300,\n",
       " 'genres': [{'id': 53, 'name': 'Thriller'},\n",
       "  {'id': 18, 'name': 'Drama'},\n",
       "  {'id': 27, 'name': 'Horror'}],\n",
       " 'release_date': '2018-08-03',\n",
       " 'revenue': 0,\n",
       " 'title': 'Heartbreaker'}"
      ]
     },
     "execution_count": 28,
     "metadata": {},
     "output_type": "execute_result"
    }
   ],
   "source": [
    "bottom100_movies[79]"
   ]
  },
  {
   "cell_type": "markdown",
   "metadata": {},
   "source": [
    "* I'm going to create a table of movies for each critic and also get the info on how much money the movies made in theatres. I will use the NYT and Box Office Mojo APIs for this info.\n",
    "* For question #2, I'm going to scrape the NYT movie reviews from the url provided in the API response and create a dataset that has the movie info, the review, sentiment analysis, and whether it was a critic's pick. I will use NYT API for this info.\n",
    "* For question #3, I'll create two datasets: one for movies that did well and one for movies that performed poorly. I will use NYT, OMDb, and Box Office Mojo APIs for this."
   ]
  },
  {
   "cell_type": "markdown",
   "metadata": {},
   "source": [
    "# EDA"
   ]
  },
  {
   "cell_type": "markdown",
   "metadata": {},
   "source": [
    "* Q1: I'm going to create a list of picks for each critic and see how many of their picks performed well in box office. I will define a \"box office hit\" as a movie that made more than 100 million dollars domestic. \n",
    "* Q2: After scraping the reviews off the web, I will run sentiment analysis on the reviews using popular Python packages (i.e TextBlob) and classify them. I will then compare the results to whether or not the movie was a critic's pick. Plotting the data seems like a good idea right now because it will allow me to see if their is a somewhat sigmoid relationship between the two variables. My plot will be 2D, with the x-axis being the different sentiment results and the y-axis being binary (+1 for critic pick, 0 otherwise).\n",
    "* Q3: For each table (movies that did well, movies that did poorly), I will perform something similar to a set intersection among their characteristics and see what they have in common. I will also remove any characteristics that appear in both tables. "
   ]
  },
  {
   "cell_type": "markdown",
   "metadata": {},
   "source": [
    "# Modelling"
   ]
  },
  {
   "cell_type": "markdown",
   "metadata": {},
   "source": [
    "* Q1: Don't think I need any formal model here. Just going to look at accuracy for each critic.\n",
    "\n",
    "* Q2: Perform logistic regression. \n",
    "\n",
    "* Q3: I'm thinking of using PCA to find which \"features\" of movies are the most influential when it comes to determining revenue. "
   ]
  },
  {
   "cell_type": "code",
   "execution_count": null,
   "metadata": {},
   "outputs": [],
   "source": []
  }
 ],
 "metadata": {
  "kernelspec": {
   "display_name": "Python 3",
   "language": "python",
   "name": "python3"
  },
  "language_info": {
   "codemirror_mode": {
    "name": "ipython",
    "version": 3
   },
   "file_extension": ".py",
   "mimetype": "text/x-python",
   "name": "python",
   "nbconvert_exporter": "python",
   "pygments_lexer": "ipython3",
   "version": "3.6.6"
  },
  "varInspector": {
   "cols": {
    "lenName": 16,
    "lenType": 16,
    "lenVar": 40
   },
   "kernels_config": {
    "python": {
     "delete_cmd_postfix": "",
     "delete_cmd_prefix": "del ",
     "library": "var_list.py",
     "varRefreshCmd": "print(var_dic_list())"
    },
    "r": {
     "delete_cmd_postfix": ") ",
     "delete_cmd_prefix": "rm(",
     "library": "var_list.r",
     "varRefreshCmd": "cat(var_dic_list()) "
    }
   },
   "types_to_exclude": [
    "module",
    "function",
    "builtin_function_or_method",
    "instance",
    "_Feature"
   ],
   "window_display": false
  }
 },
 "nbformat": 4,
 "nbformat_minor": 2
}
