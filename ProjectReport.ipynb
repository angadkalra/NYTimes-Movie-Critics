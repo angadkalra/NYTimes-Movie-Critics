{
 "cells": [
  {
   "cell_type": "markdown",
   "metadata": {},
   "source": [
    "# Analysis of Movie Critics, Their Opinions, and What Makes a Good Movie?\n",
    "\n",
    "**Report Author:** Angad Kalra  \n",
    "**SN:** 1005134999  \n",
    "**Summary:** Analysis on NYT movie critics, movies they've reviewed, and characteristics of movies affecting revenue."
   ]
  },
  {
   "cell_type": "markdown",
   "metadata": {},
   "source": [
    "## Introduction"
   ]
  },
  {
   "cell_type": "markdown",
   "metadata": {},
   "source": [
    "#### The purpose of this report is to answer three questions:\n",
    "1. How accurate are current NYT movie critics when it comes to predicting box office hits?\n",
    "2. Do the critic's movie reviews align with whether the movie was a critic's pick?\n",
    "3. What characteristics are unique among movies that perform well financially?\n",
    "\n",
    "#### Due to limited API requests, only recent movies and reviews were considered. "
   ]
  },
  {
   "cell_type": "markdown",
   "metadata": {},
   "source": [
    "## Methods"
   ]
  },
  {
   "cell_type": "markdown",
   "metadata": {},
   "source": [
    "Q1:  \n",
    "* For each critic, their most recent picks were gathered from NYT API; for each pick, the box office total was requested from TMDB API. \n",
    "* To determine the accuracy of a critic, I counted how many critic picks had box office totals greater than $100 million and divided that number by the total number of picks.  \n",
    "\n",
    "Q2:  \n",
    "* For each critic, sentiment analysis was performed on their recent movie reviews (scraped from NYT website) resulting in a value between -1 and 1 (sentiment polarity).  \n",
    "* Each review was plotted on a 2 dimensional plot with their x-coordinate being sentiment polarity and y-coordinate being 1 or 0, depending on if the movie was a critic's pick or not. \n",
    "* (still need to determine relationship...)  \n",
    "\n",
    "Q3:  \n",
    "* Using the TMDB API, I retrieved all movies released between January 2010 and January 2017 and sorted them by descending revenue.  \n",
    "* Movies ranked 1st - 100th were put into one dataset, and movies ranked 200th - 300th were put into another dataset.\n",
    "* Movie characteristics compared were budget, genres, and release season.  \n",
    "* To compare budget, a side-by-side boxplot was used.  \n",
    "* To compare release season, mode was used.  \n",
    "* To compare genres, I will count the frequency of each genre in each dataset and rank them in descending order.  "
   ]
  },
  {
   "cell_type": "markdown",
   "metadata": {},
   "source": [
    "## Results"
   ]
  },
  {
   "cell_type": "markdown",
   "metadata": {},
   "source": [
    "Q1:  \n",
    "* Critic: A. O. Scott, # Picks: 20, Accuracy: 0.35\n",
    "\n",
    "* Critic: Manohla Dargis, # Picks: 27, Accuracy: 0.41\n",
    "\n",
    "* Critic: Stephen Holden, # Picks: 11, Accuracy: 0.0  "
   ]
  },
  {
   "cell_type": "markdown",
   "metadata": {},
   "source": [
    "Q2:  \n",
    "* (going to insert 2D plot here with appropriate axis and labels...need to ask Prof for assistance.)"
   ]
  },
  {
   "cell_type": "markdown",
   "metadata": {},
   "source": [
    "Q3:  \n",
    "* (going to insert boxplot for budget)\n",
    "* Mode Release Season:\n",
    "    * Top 100 Movies: Summer\n",
    "    * Bottom 100 Movies: Summer\n",
    "* (going to insert genre rankings here...)"
   ]
  },
  {
   "cell_type": "markdown",
   "metadata": {},
   "source": [
    "## Conclusion"
   ]
  },
  {
   "cell_type": "markdown",
   "metadata": {},
   "source": [
    "Q1:  \n",
    "* Result Summary: \n",
    "    * All three critics had accuracies well below 50%, with the highest being 41% and lowest being 0%.\n",
    "* Limitations:\n",
    "    * The API from which revenue was retrieved had a limit on the number of requests per 10 seconds. \n",
    "    * The box office hit benchmark was arbitrary and chosen by me. \n",
    "* Future Considerations:\n",
    "    * Using more sophisticated API requests, retrieve more movie reviews per critic to get better accuracy measure. \n",
    "    * Analyze historical box office data to get more accurate benchmark of a box office hit. "
   ]
  },
  {
   "cell_type": "markdown",
   "metadata": {},
   "source": [
    "Q2:  \n",
    "* Result Summary: \n",
    "    * TODO...\n",
    "* Limitations:\n",
    "    * TODO... \n",
    "* Future Considerations:\n",
    "    * Use different sentiment analysis packages and compare results.\n",
    "    * TODO...\n"
   ]
  },
  {
   "cell_type": "markdown",
   "metadata": {},
   "source": [
    "Q3:  \n",
    "* Result Summary: \n",
    "    * TODO...\n",
    "* Limitations:\n",
    "    * The API from which revenue was retrieved had a limit on the number of requests per 10 seconds. \n",
    "    * TODO... \n",
    "* Future Considerations:\n",
    "    * Using more sophisticated API requests, retrieve more movies for both datasets. \n",
    "    * Include other influential movie characteristics such as director, main actors, movie language, part of sequel/trilogy/series, production companies.  \n",
    "    * TODO..."
   ]
  },
  {
   "cell_type": "code",
   "execution_count": null,
   "metadata": {},
   "outputs": [],
   "source": []
  }
 ],
 "metadata": {
  "kernelspec": {
   "display_name": "Python 3",
   "language": "python",
   "name": "python3"
  },
  "language_info": {
   "codemirror_mode": {
    "name": "ipython",
    "version": 3
   },
   "file_extension": ".py",
   "mimetype": "text/x-python",
   "name": "python",
   "nbconvert_exporter": "python",
   "pygments_lexer": "ipython3",
   "version": "3.6.6"
  },
  "varInspector": {
   "cols": {
    "lenName": 16,
    "lenType": 16,
    "lenVar": 40
   },
   "kernels_config": {
    "python": {
     "delete_cmd_postfix": "",
     "delete_cmd_prefix": "del ",
     "library": "var_list.py",
     "varRefreshCmd": "print(var_dic_list())"
    },
    "r": {
     "delete_cmd_postfix": ") ",
     "delete_cmd_prefix": "rm(",
     "library": "var_list.r",
     "varRefreshCmd": "cat(var_dic_list()) "
    }
   },
   "types_to_exclude": [
    "module",
    "function",
    "builtin_function_or_method",
    "instance",
    "_Feature"
   ],
   "window_display": false
  }
 },
 "nbformat": 4,
 "nbformat_minor": 2
}
